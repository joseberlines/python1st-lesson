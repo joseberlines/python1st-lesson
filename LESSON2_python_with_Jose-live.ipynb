{
 "cells": [
  {
   "cell_type": "markdown",
   "metadata": {},
   "source": [
    "## LESSON 2: BASICS"
   ]
  },
  {
   "cell_type": "markdown",
   "metadata": {},
   "source": [
    "2.1.\tLists, tupples  \n",
    "2.2.\tManipulating lists (append, pop etc)  \n",
    "2.3.\tText functions (strings).  \n",
    "2.4.\tText formatting: f strings  .format, concatenate, split, etc  \n",
    "2.5.\tDefining functions   \n"
   ]
  },
  {
   "cell_type": "markdown",
   "metadata": {},
   "source": [
    "### List, tuppels\n",
    "I will not go into the kind of variables that are available in Python.  \n",
    "Basically like in any other language (int,float,str, bool, etc)    \n",
    "\n",
    "You dont have to declare variables !!!!!   \n",
    "VBA: Dim a as integer   \n",
    "Python assumes what kind of variable it is depending on what is inside.   "
   ]
  },
  {
   "cell_type": "code",
   "execution_count": 1,
   "metadata": {},
   "outputs": [],
   "source": [
    "import sys\n"
   ]
  },
  {
   "cell_type": "code",
   "execution_count": 2,
   "metadata": {},
   "outputs": [
    {
     "data": {
      "text/plain": [
       "['uno', 'dos', 'tres', 'cuatro']"
      ]
     },
     "execution_count": 2,
     "metadata": {},
     "output_type": "execute_result"
    }
   ],
   "source": [
    "my_first_list = ['uno', 'dos','tres','cuatro']\n",
    "my_first_list"
   ]
  },
  {
   "cell_type": "markdown",
   "metadata": {},
   "source": [
    "Manipulating lists"
   ]
  },
  {
   "cell_type": "code",
   "execution_count": 3,
   "metadata": {},
   "outputs": [
    {
     "data": {
      "text/plain": [
       "['uno', 'dos', 'tres', 'cuatro', 'this is an appended value']"
      ]
     },
     "execution_count": 3,
     "metadata": {},
     "output_type": "execute_result"
    }
   ],
   "source": [
    "my_first_list.append('this is an appended value')\n",
    "my_first_list"
   ]
  },
  {
   "cell_type": "code",
   "execution_count": 4,
   "metadata": {},
   "outputs": [],
   "source": [
    "my_first_list[1] = 'I changed value 2'"
   ]
  },
  {
   "cell_type": "code",
   "execution_count": 5,
   "metadata": {},
   "outputs": [
    {
     "data": {
      "text/plain": [
       "['uno', 'I changed value 2', 'tres', 'cuatro', 'this is an appended value']"
      ]
     },
     "execution_count": 5,
     "metadata": {},
     "output_type": "execute_result"
    }
   ],
   "source": [
    "my_first_list"
   ]
  },
  {
   "cell_type": "code",
   "execution_count": 6,
   "metadata": {},
   "outputs": [
    {
     "name": "stdout",
     "output_type": "stream",
     "text": [
      "uno\n",
      "I changed value 2\n",
      "tres\n",
      "cuatro\n",
      "this is an appended value\n"
     ]
    }
   ],
   "source": [
    "for element in my_first_list:\n",
    "    print(element)"
   ]
  },
  {
   "cell_type": "code",
   "execution_count": 7,
   "metadata": {},
   "outputs": [
    {
     "name": "stdout",
     "output_type": "stream",
     "text": [
      "0\n",
      "uno\n",
      "1\n",
      "I changed value 2\n",
      "2\n",
      "tres\n",
      "3\n",
      "cuatro\n",
      "4\n",
      "this is an appended value\n"
     ]
    }
   ],
   "source": [
    "for i in range(len(my_first_list)):\n",
    "    print(i)\n",
    "    print(my_first_list [i])\n",
    "    "
   ]
  },
  {
   "cell_type": "code",
   "execution_count": null,
   "metadata": {},
   "outputs": [],
   "source": []
  },
  {
   "cell_type": "code",
   "execution_count": null,
   "metadata": {},
   "outputs": [],
   "source": []
  },
  {
   "cell_type": "markdown",
   "metadata": {},
   "source": [
    "slicing lists"
   ]
  },
  {
   "cell_type": "code",
   "execution_count": 8,
   "metadata": {},
   "outputs": [
    {
     "data": {
      "text/plain": [
       "['tres', 'cuatro']"
      ]
     },
     "execution_count": 8,
     "metadata": {},
     "output_type": "execute_result"
    }
   ],
   "source": [
    "from_nr  = 2\n",
    "up_to_nr = 4\n",
    "my_first_list[from_nr:up_to_nr]\n",
    "# it is zero based index"
   ]
  },
  {
   "cell_type": "code",
   "execution_count": 9,
   "metadata": {},
   "outputs": [
    {
     "data": {
      "text/plain": [
       "'cuatro'"
      ]
     },
     "execution_count": 9,
     "metadata": {},
     "output_type": "execute_result"
    }
   ],
   "source": [
    "one_element = 3\n",
    "my_first_list[one_element]\n",
    "# does not get any element"
   ]
  },
  {
   "cell_type": "code",
   "execution_count": 10,
   "metadata": {},
   "outputs": [
    {
     "data": {
      "text/plain": [
       "['cuatro']"
      ]
     },
     "execution_count": 10,
     "metadata": {},
     "output_type": "execute_result"
    }
   ],
   "source": [
    "my_first_list[one_element:one_element+1]"
   ]
  },
  {
   "cell_type": "markdown",
   "metadata": {},
   "source": [
    "pop elements"
   ]
  },
  {
   "cell_type": "code",
   "execution_count": 11,
   "metadata": {},
   "outputs": [
    {
     "data": {
      "text/plain": [
       "['uno', 'I changed value 2', 'cuatro', 'this is an appended value']"
      ]
     },
     "execution_count": 11,
     "metadata": {},
     "output_type": "execute_result"
    }
   ],
   "source": [
    "my_first_list.pop(2)\n",
    "my_first_list\n",
    "# be careful in jupyter when running the same cell several times.\n",
    "# value 2 is the third one. 0 based"
   ]
  },
  {
   "cell_type": "markdown",
   "metadata": {},
   "source": [
    "Other methods for lists"
   ]
  },
  {
   "cell_type": "code",
   "execution_count": 12,
   "metadata": {},
   "outputs": [
    {
     "name": "stdout",
     "output_type": "stream",
     "text": [
      "['__add__', '__class__', '__contains__', '__delattr__', '__delitem__', '__dir__', '__doc__', '__eq__', '__format__', '__ge__', '__getattribute__', '__getitem__', '__gt__', '__hash__', '__iadd__', '__imul__', '__init__', '__init_subclass__', '__iter__', '__le__', '__len__', '__lt__', '__mul__', '__ne__', '__new__', '__reduce__', '__reduce_ex__', '__repr__', '__reversed__', '__rmul__', '__setattr__', '__setitem__', '__sizeof__', '__str__', '__subclasshook__', 'append', 'clear', 'copy', 'count', 'extend', 'index', 'insert', 'pop', 'remove', 'reverse', 'sort']\n"
     ]
    }
   ],
   "source": [
    "print(dir(list))"
   ]
  },
  {
   "cell_type": "code",
   "execution_count": 13,
   "metadata": {},
   "outputs": [
    {
     "name": "stdout",
     "output_type": "stream",
     "text": [
      "Built-in mutable sequence.\n",
      "\n",
      "If no argument is given, the constructor creates a new empty list.\n",
      "The argument must be an iterable if specified.\n"
     ]
    }
   ],
   "source": [
    "print(list.__doc__)"
   ]
  },
  {
   "cell_type": "markdown",
   "metadata": {},
   "source": [
    "You can put anything in a list of course.    \n",
    "Everything in python is an object.   \n",
    "You can have a list of lists, including tuples, including entire files etcetc   \n",
    "__iter__ method   \n",
    "__len__ method  \n",
    "Dudder methods   \n",
    "no dunder methods  \n",
    "dir meaning.  "
   ]
  },
  {
   "cell_type": "code",
   "execution_count": 14,
   "metadata": {},
   "outputs": [
    {
     "name": "stdout",
     "output_type": "stream",
     "text": [
      "element nr 0 is: this is a text\n",
      "element nr 1 is: [2, 3, 4, 5]\n",
      "element nr 2 is: ['another list', 2, 3, [4, 5]]\n"
     ]
    }
   ],
   "source": [
    "crazy_list = ['this is a text',[2,3,4,5],['another list', 2,3,[4,5]]]\n",
    "for i,element in enumerate(crazy_list):\n",
    "    print('element nr %s is: %s' % (i,element))\n",
    "    "
   ]
  },
  {
   "cell_type": "code",
   "execution_count": 15,
   "metadata": {},
   "outputs": [
    {
     "name": "stdout",
     "output_type": "stream",
     "text": [
      "['another list', 2, 3, [4, 5]]\n"
     ]
    }
   ],
   "source": [
    "element3 = crazy_list[2]\n",
    "print(element3)"
   ]
  },
  {
   "cell_type": "code",
   "execution_count": 16,
   "metadata": {},
   "outputs": [],
   "source": [
    "element2of3 = element3 "
   ]
  },
  {
   "cell_type": "markdown",
   "metadata": {},
   "source": [
    "Shallow copy / real copy"
   ]
  },
  {
   "cell_type": "code",
   "execution_count": 17,
   "metadata": {},
   "outputs": [],
   "source": [
    "a=[1,2,3,4,5]\n",
    "b=a\n",
    "b[2] = 555"
   ]
  },
  {
   "cell_type": "code",
   "execution_count": 18,
   "metadata": {},
   "outputs": [
    {
     "name": "stdout",
     "output_type": "stream",
     "text": [
      "[1, 2, 555, 4, 5]\n"
     ]
    }
   ],
   "source": [
    "# does a change?\n",
    "print(a)\n",
    "# yes, b points to a"
   ]
  },
  {
   "cell_type": "code",
   "execution_count": 19,
   "metadata": {},
   "outputs": [
    {
     "name": "stdout",
     "output_type": "stream",
     "text": [
      "[2323, 6, 7, 8, 9, 1, 2, 0, 'name']\n",
      "[2323, 6, 7, 999, 9, 1, 2, 0, 'name']\n"
     ]
    }
   ],
   "source": [
    "c=[2323,6,7,8,9,1,2,0,'name']\n",
    "d=c.copy()\n",
    "d[3]=999\n",
    "print(c)\n",
    "print(d)"
   ]
  },
  {
   "cell_type": "code",
   "execution_count": 20,
   "metadata": {},
   "outputs": [
    {
     "ename": "TypeError",
     "evalue": "'<' not supported between instances of 'str' and 'int'",
     "output_type": "error",
     "traceback": [
      "\u001b[1;31m---------------------------------------------------------------------------\u001b[0m",
      "\u001b[1;31mTypeError\u001b[0m                                 Traceback (most recent call last)",
      "\u001b[1;32m<ipython-input-20-c1d30c6d1ab8>\u001b[0m in \u001b[0;36m<module>\u001b[1;34m\u001b[0m\n\u001b[1;32m----> 1\u001b[1;33m \u001b[0mprint\u001b[0m\u001b[1;33m(\u001b[0m\u001b[0mc\u001b[0m\u001b[1;33m.\u001b[0m\u001b[0msort\u001b[0m\u001b[1;33m(\u001b[0m\u001b[1;33m)\u001b[0m\u001b[1;33m)\u001b[0m\u001b[1;33m\u001b[0m\u001b[1;33m\u001b[0m\u001b[0m\n\u001b[0m\u001b[0;32m      2\u001b[0m \u001b[0mprint\u001b[0m\u001b[1;33m(\u001b[0m\u001b[0mc\u001b[0m\u001b[1;33m)\u001b[0m\u001b[1;33m\u001b[0m\u001b[1;33m\u001b[0m\u001b[0m\n",
      "\u001b[1;31mTypeError\u001b[0m: '<' not supported between instances of 'str' and 'int'"
     ]
    }
   ],
   "source": [
    "print(c.sort())\n",
    "print(c)"
   ]
  },
  {
   "cell_type": "markdown",
   "metadata": {},
   "source": [
    "#### Tupples  \n",
    "A tupple is an unmutable object.  \n",
    "Once created you can not change it.  \n",
    "Worth having a look to mutable and unmutable objects.   \n",
    "In lists you can add, pop, reverse, etcetc, in tupples not.   \n",
    "\n",
    "NOTE: I have never felt the need for using tuples.\n",
    "\n"
   ]
  },
  {
   "cell_type": "code",
   "execution_count": 21,
   "metadata": {},
   "outputs": [],
   "source": [
    "my_tuple=(4,5,6,7)"
   ]
  },
  {
   "cell_type": "markdown",
   "metadata": {},
   "source": [
    "Tuples are inmutable"
   ]
  },
  {
   "cell_type": "code",
   "execution_count": 22,
   "metadata": {},
   "outputs": [
    {
     "name": "stdout",
     "output_type": "stream",
     "text": [
      "error\n"
     ]
    }
   ],
   "source": [
    "try:\n",
    "    my_tuple[2] = 'I want to change value number 3'\n",
    "except:\n",
    "    print('error')"
   ]
  },
  {
   "cell_type": "code",
   "execution_count": 23,
   "metadata": {},
   "outputs": [
    {
     "ename": "TypeError",
     "evalue": "'tuple' object does not support item assignment",
     "output_type": "error",
     "traceback": [
      "\u001b[1;31m---------------------------------------------------------------------------\u001b[0m",
      "\u001b[1;31mTypeError\u001b[0m                                 Traceback (most recent call last)",
      "\u001b[1;32m<ipython-input-23-75915d53b09d>\u001b[0m in \u001b[0;36m<module>\u001b[1;34m\u001b[0m\n\u001b[1;32m----> 1\u001b[1;33m \u001b[0mmy_tuple\u001b[0m\u001b[1;33m[\u001b[0m\u001b[1;36m2\u001b[0m\u001b[1;33m]\u001b[0m \u001b[1;33m=\u001b[0m \u001b[1;34m'I want to change value number 3'\u001b[0m\u001b[1;33m\u001b[0m\u001b[1;33m\u001b[0m\u001b[0m\n\u001b[0m",
      "\u001b[1;31mTypeError\u001b[0m: 'tuple' object does not support item assignment"
     ]
    }
   ],
   "source": [
    "my_tuple[2] = 'I want to change value number 3'\n"
   ]
  },
  {
   "cell_type": "code",
   "execution_count": 24,
   "metadata": {},
   "outputs": [
    {
     "name": "stdout",
     "output_type": "stream",
     "text": [
      "<class 'tuple'>\n"
     ]
    }
   ],
   "source": [
    "print(type(my_tuple))"
   ]
  },
  {
   "cell_type": "code",
   "execution_count": 25,
   "metadata": {},
   "outputs": [
    {
     "name": "stdout",
     "output_type": "stream",
     "text": [
      "element nr 0 is: 4\n",
      "element nr 1 is: 5\n",
      "element nr 2 is: 6\n",
      "element nr 3 is: 7\n"
     ]
    }
   ],
   "source": [
    "for i,element in enumerate(my_tuple):\n",
    "    print('element nr %s is: %s' % (i,element))"
   ]
  },
  {
   "cell_type": "code",
   "execution_count": 26,
   "metadata": {},
   "outputs": [
    {
     "name": "stdout",
     "output_type": "stream",
     "text": [
      "['__add__', '__class__', '__contains__', '__delattr__', '__dir__', '__doc__', '__eq__', '__format__', '__ge__', '__getattribute__', '__getitem__', '__getnewargs__', '__gt__', '__hash__', '__init__', '__init_subclass__', '__iter__', '__le__', '__len__', '__lt__', '__mul__', '__ne__', '__new__', '__reduce__', '__reduce_ex__', '__repr__', '__rmul__', '__setattr__', '__sizeof__', '__str__', '__subclasshook__', 'count', 'index']\n"
     ]
    }
   ],
   "source": [
    "print(dir(tuple))"
   ]
  },
  {
   "cell_type": "code",
   "execution_count": 27,
   "metadata": {},
   "outputs": [
    {
     "name": "stdout",
     "output_type": "stream",
     "text": [
      "['__delitem__', '__iadd__', '__imul__', '__reversed__', '__setitem__', 'append', 'clear', 'copy', 'extend', 'insert', 'pop', 'remove', 'reverse', 'sort']\n"
     ]
    }
   ],
   "source": [
    "list_of_methods_for_list = dir(list)\n",
    "list_of_methods_for_tuple = dir(tuple)\n",
    "\n",
    "list_of_methods_only_in_list = [method for method in list_of_methods_for_list if method not in list_of_methods_for_tuple]\n",
    "# we see next what is a list comprehension\n",
    "\n",
    "print(list_of_methods_only_in_list)"
   ]
  },
  {
   "cell_type": "markdown",
   "metadata": {},
   "source": [
    "### Text functions (strings)"
   ]
  },
  {
   "cell_type": "code",
   "execution_count": 28,
   "metadata": {},
   "outputs": [],
   "source": [
    "mystring  = \"Lorem Ipsum is     simply dummy text\""
   ]
  },
  {
   "cell_type": "code",
   "execution_count": 29,
   "metadata": {},
   "outputs": [
    {
     "name": "stdout",
     "output_type": "stream",
     "text": [
      "\"Lorem Ipsum is simply dummy text\"\n"
     ]
    }
   ],
   "source": [
    "mystring2 = '\"Lorem Ipsum is simply dummy text\"'\n",
    "print(mystring2)"
   ]
  },
  {
   "cell_type": "code",
   "execution_count": 30,
   "metadata": {},
   "outputs": [
    {
     "name": "stdout",
     "output_type": "stream",
     "text": [
      "'Lorem Ipsum is simply dummy text'\n"
     ]
    }
   ],
   "source": [
    "mystring2 = \"'Lorem Ipsum is simply dummy text'\"\n",
    "print(mystring2)"
   ]
  },
  {
   "cell_type": "code",
   "execution_count": 31,
   "metadata": {},
   "outputs": [
    {
     "data": {
      "text/plain": [
       "False"
      ]
     },
     "execution_count": 31,
     "metadata": {},
     "output_type": "execute_result"
    }
   ],
   "source": [
    "mystring.endswith(\"y\")"
   ]
  },
  {
   "cell_type": "code",
   "execution_count": 32,
   "metadata": {},
   "outputs": [
    {
     "data": {
      "text/plain": [
       "True"
      ]
     },
     "execution_count": 32,
     "metadata": {},
     "output_type": "execute_result"
    }
   ],
   "source": [
    "mystring.endswith('t')"
   ]
  },
  {
   "cell_type": "code",
   "execution_count": 33,
   "metadata": {},
   "outputs": [
    {
     "data": {
      "text/plain": [
       "'Lorem Ipsum is     simply dummy textsome other text'"
      ]
     },
     "execution_count": 33,
     "metadata": {},
     "output_type": "execute_result"
    }
   ],
   "source": [
    "mystring = mystring + \"some other text\"\n",
    "mystring"
   ]
  },
  {
   "cell_type": "code",
   "execution_count": 34,
   "metadata": {},
   "outputs": [
    {
     "data": {
      "text/plain": [
       "['Lorem',\n",
       " 'Ipsum',\n",
       " 'is',\n",
       " '',\n",
       " '',\n",
       " 'simply',\n",
       " 'dummy',\n",
       " 'textsome',\n",
       " 'other',\n",
       " 'text']"
      ]
     },
     "execution_count": 34,
     "metadata": {},
     "output_type": "execute_result"
    }
   ],
   "source": [
    "tokenized = mystring.replace(\"  \",\" \").split(\" \")\n",
    "tokenized"
   ]
  },
  {
   "cell_type": "code",
   "execution_count": 35,
   "metadata": {},
   "outputs": [
    {
     "data": {
      "text/plain": [
       "'re'"
      ]
     },
     "execution_count": 35,
     "metadata": {},
     "output_type": "execute_result"
    }
   ],
   "source": [
    "# a string can be thought of as a list\n",
    "mystring[2:4]"
   ]
  },
  {
   "cell_type": "code",
   "execution_count": 36,
   "metadata": {},
   "outputs": [
    {
     "name": "stdout",
     "output_type": "stream",
     "text": [
      "['__add__', '__class__', '__contains__', '__delattr__', '__dir__', '__doc__', '__eq__', '__format__', '__ge__', '__getattribute__', '__getitem__', '__getnewargs__', '__gt__', '__hash__', '__init__', '__init_subclass__', '__iter__', '__le__', '__len__', '__lt__', '__mod__', '__mul__', '__ne__', '__new__', '__reduce__', '__reduce_ex__', '__repr__', '__rmod__', '__rmul__', '__setattr__', '__sizeof__', '__str__', '__subclasshook__', 'capitalize', 'casefold', 'center', 'count', 'encode', 'endswith', 'expandtabs', 'find', 'format', 'format_map', 'index', 'isalnum', 'isalpha', 'isascii', 'isdecimal', 'isdigit', 'isidentifier', 'islower', 'isnumeric', 'isprintable', 'isspace', 'istitle', 'isupper', 'join', 'ljust', 'lower', 'lstrip', 'maketrans', 'partition', 'replace', 'rfind', 'rindex', 'rjust', 'rpartition', 'rsplit', 'rstrip', 'split', 'splitlines', 'startswith', 'strip', 'swapcase', 'title', 'translate', 'upper', 'zfill']\n"
     ]
    }
   ],
   "source": [
    "print(dir(str))"
   ]
  },
  {
   "cell_type": "markdown",
   "metadata": {},
   "source": [
    "### list comprehensions\n",
    "List comprehensions provide a concise way to create lists.    \n",
    "\n",
    "It consists of brackets containing an expression followed by a for clause.   \n",
    "\n",
    "At this level this is one of the most pythonic things to get used to.\n",
    "\n",
    "Lets see an example"
   ]
  },
  {
   "cell_type": "code",
   "execution_count": 37,
   "metadata": {},
   "outputs": [],
   "source": [
    "A = [1,3,5,3,6,8,9,23,45,22,64]\n",
    "B = [3,6,2,7,9,23,4,55,78,54,4]"
   ]
  },
  {
   "cell_type": "code",
   "execution_count": 38,
   "metadata": {},
   "outputs": [
    {
     "data": {
      "text/plain": [
       "[6, 8, 22, 64]"
      ]
     },
     "execution_count": 38,
     "metadata": {},
     "output_type": "execute_result"
    }
   ],
   "source": [
    "newlist=[]\n",
    "for number in A:\n",
    "    if number%2 == 0 :\n",
    "        newlist.append(number)\n",
    "newlist"
   ]
  },
  {
   "cell_type": "code",
   "execution_count": 39,
   "metadata": {},
   "outputs": [
    {
     "name": "stdout",
     "output_type": "stream",
     "text": [
      "[]\n"
     ]
    }
   ],
   "source": [
    "# get the list of all the elements even in A\n",
    "even_list = [str(element) + 'a' for element in A if (element%2 == 0) & (element%2 != 0)]\n",
    "print(even_list)"
   ]
  },
  {
   "cell_type": "code",
   "execution_count": null,
   "metadata": {},
   "outputs": [],
   "source": []
  },
  {
   "cell_type": "code",
   "execution_count": 40,
   "metadata": {},
   "outputs": [
    {
     "name": "stdout",
     "output_type": "stream",
     "text": [
      "[2, 7, 4, 55, 78, 54, 4]\n"
     ]
    }
   ],
   "source": [
    "# get the list of all the elements in B not in A\n",
    "B_not_A_list = [element for element in B if element not in A]\n",
    "print(B_not_A_list)"
   ]
  },
  {
   "cell_type": "code",
   "execution_count": 41,
   "metadata": {},
   "outputs": [
    {
     "name": "stdout",
     "output_type": "stream",
     "text": [
      "[2, 4, 78, 54, 4]\n"
     ]
    }
   ],
   "source": [
    "# get the list of all the elements in B not in A and even\n",
    "B_not_A_even_list = [element for element in B if ((element not in A) and (element%2 == 0))]\n",
    "print(B_not_A_even_list)"
   ]
  },
  {
   "cell_type": "code",
   "execution_count": 42,
   "metadata": {},
   "outputs": [
    {
     "name": "stdout",
     "output_type": "stream",
     "text": [
      "{64, 1, 3, 5, 6, 8, 9, 45, 22, 23}\n"
     ]
    }
   ],
   "source": [
    "A = [1,3,5,3,6,8,9,23,45,22,64,1,3,5]\n",
    "ss=set(A)\n",
    "print(ss)\n"
   ]
  },
  {
   "cell_type": "markdown",
   "metadata": {},
   "source": [
    "### Time to ZEN\n",
    "Why is time to ZEN?   \n",
    "because lines are getting too long.    \n",
    "Things are getting too complicated.   \n",
    "\n",
    "How is programming done in python?\n",
    "Following the Zen of python\n",
    "(well not really but worth to think about)"
   ]
  },
  {
   "cell_type": "code",
   "execution_count": 43,
   "metadata": {},
   "outputs": [
    {
     "name": "stdout",
     "output_type": "stream",
     "text": [
      "The Zen of Python, by Tim Peters\n",
      "\n",
      "Beautiful is better than ugly.\n",
      "Explicit is better than implicit.\n",
      "Simple is better than complex.\n",
      "Complex is better than complicated.\n",
      "Flat is better than nested.\n",
      "Sparse is better than dense.\n",
      "Readability counts.\n",
      "Special cases aren't special enough to break the rules.\n",
      "Although practicality beats purity.\n",
      "Errors should never pass silently.\n",
      "Unless explicitly silenced.\n",
      "In the face of ambiguity, refuse the temptation to guess.\n",
      "There should be one-- and preferably only one --obvious way to do it.\n",
      "Although that way may not be obvious at first unless you're Dutch.\n",
      "Now is better than never.\n",
      "Although never is often better than *right* now.\n",
      "If the implementation is hard to explain, it's a bad idea.\n",
      "If the implementation is easy to explain, it may be a good idea.\n",
      "Namespaces are one honking great idea -- let's do more of those!\n"
     ]
    }
   ],
   "source": [
    "import this"
   ]
  },
  {
   "cell_type": "markdown",
   "metadata": {},
   "source": [
    "### PEP 8\n",
    "Python Enhancement Proposal.\n",
    "PEP 8 is Python's style guide. It's a set of rules for how to format your Python code to maximize its readability. Writing code to a specification helps to make large code bases, with lots of writers, more uniform and predictable, too.   \n",
    "\n",
    "Is it important to stick to PEP8?   \n",
    "PEP 8 exists to improve the readability of Python code. But why is readability so important? Why is writing readable code one of the guiding principles of the Python language?   \n",
    "\n",
    "As Guido van Rossum said, “Code is read much more often than it is written.”    \n",
    "\n",
    "Check for PEP8 conventions online. There are hundreds of pages.\n",
    "\n",
    "as a matter of example:\n",
    "pep8 says that a line might not have more than 79 characteres.   \n",
    "\n",
    "there are python modules helping to format code accordingly.\n",
    "PEP 8 is not just philosophy, corrections given or suggested by most of the editors are probably based on PEP 8\n",
    "Besides there are many \"code checkers\" all based in a kind or variation of PEP8.\n",
    "\n",
    "If you dont care about PEP 8 you might get a million suggesions for improvement your code when using for instance BLACK, pep8, pylint, pycodestyle, etc"
   ]
  },
  {
   "cell_type": "code",
   "execution_count": 44,
   "metadata": {},
   "outputs": [
    {
     "name": "stdout",
     "output_type": "stream",
     "text": [
      "[2, 4, 78, 54, 4]\n"
     ]
    }
   ],
   "source": [
    "# bad:\n",
    "B_not_A_even_list = [element_of_B for element_of_B in B if (element_of_B not in A and element_of_B%2 == 0)]\n",
    "\n",
    "# better:\n",
    "B_not_A_even_list = [\n",
    "    element_of_B for element_of_B in B if (\n",
    "        element_of_B not in A and element_of_B%2 == 0\n",
    "    )]\n",
    "print(B_not_A_even_list)"
   ]
  },
  {
   "cell_type": "markdown",
   "metadata": {},
   "source": [
    "### Functions/methods"
   ]
  },
  {
   "cell_type": "code",
   "execution_count": 45,
   "metadata": {},
   "outputs": [
    {
     "ename": "SyntaxError",
     "evalue": "name 'myvar' is used prior to global declaration (<ipython-input-45-1c2528ab5047>, line 8)",
     "output_type": "error",
     "traceback": [
      "\u001b[1;36m  File \u001b[1;32m\"<ipython-input-45-1c2528ab5047>\"\u001b[1;36m, line \u001b[1;32m8\u001b[0m\n\u001b[1;33m    \u001b[0m\n\u001b[1;37m    ^\u001b[0m\n\u001b[1;31mSyntaxError\u001b[0m\u001b[1;31m:\u001b[0m name 'myvar' is used prior to global declaration\n"
     ]
    }
   ],
   "source": [
    "myvar = 3\n",
    "def my_first_method(variable1 ,variable2):\n",
    "    operation = (variable1 - variable2)^3\n",
    "    print(myvar)\n",
    "    global myvar\n",
    "    myvar = 'sdgfsdfgsdg'\n",
    "    \n",
    "    \n",
    "    return operation\n",
    "    \n",
    "variable1 = 34\n",
    "variable2 = 45\n",
    "\n",
    "print(my_first_method(variable1,variable2))\n",
    "print(myvar)\n"
   ]
  },
  {
   "cell_type": "markdown",
   "metadata": {},
   "source": [
    "### Functions inside of funcitons"
   ]
  },
  {
   "cell_type": "code",
   "execution_count": 46,
   "metadata": {},
   "outputs": [
    {
     "name": "stdout",
     "output_type": "stream",
     "text": [
      "passing in func inside 1: 2\n",
      "4\n",
      "passing in func inside 2: 4\n",
      "16\n",
      "20\n"
     ]
    }
   ],
   "source": [
    "def method2(var1,var2):\n",
    "    '''\n",
    "    write doc string\n",
    "    input: var1 is int\n",
    "    output interger\n",
    "    \n",
    "    btw, this is an example\n",
    "    \n",
    "    '''\n",
    "    \n",
    "    def func_inside1 (var1):\n",
    "        print('passing in func inside 1:',var1)\n",
    "        c = var1*var1\n",
    "        print(c)\n",
    "        return c\n",
    "    \n",
    "    def func_inside2 (var2):\n",
    "        print('passing in func inside 2:',var2)\n",
    "        c= var2*var2\n",
    "        print(c)\n",
    "        return c\n",
    "    \n",
    "    result = func_inside1(var1) + func_inside2(var2)\n",
    "    \n",
    "    return result\n",
    "    \n",
    "nr1 = 2\n",
    "nr2 = 4\n",
    "\n",
    "print(method2(nr1,nr2))"
   ]
  },
  {
   "cell_type": "code",
   "execution_count": 47,
   "metadata": {},
   "outputs": [
    {
     "name": "stdout",
     "output_type": "stream",
     "text": [
      "passing in func inside 1: 1\n",
      "1\n",
      "passing in func inside 2: 2\n",
      "4\n"
     ]
    }
   ],
   "source": [
    "p=method2(1,2)\n"
   ]
  },
  {
   "cell_type": "markdown",
   "metadata": {},
   "source": [
    "### Importing your own funcitons"
   ]
  },
  {
   "cell_type": "markdown",
   "metadata": {},
   "source": [
    "Question: Deal first with managing your own funcitons or with standard lybraries?\n"
   ]
  },
  {
   "cell_type": "code",
   "execution_count": 48,
   "metadata": {},
   "outputs": [],
   "source": [
    "from my_functions import jose_function1,jose_function2"
   ]
  },
  {
   "cell_type": "code",
   "execution_count": 49,
   "metadata": {},
   "outputs": [
    {
     "name": "stdout",
     "output_type": "stream",
     "text": [
      "\n",
      "    this is the doc string of jose_function1(a,b)\n",
      "    This is a function to show you how to import your own functions\n",
      "    \n",
      "    this particular function performs:\n",
      "    Input:\n",
      "        a,b\n",
      "    Return\n",
      "        a+b\n",
      "    Error checking: none\n",
      "    Error type variables: none\n",
      "    the return line is a+b\n",
      "    \n",
      "    \n"
     ]
    }
   ],
   "source": [
    "print(jose_function1.__doc__)"
   ]
  },
  {
   "cell_type": "code",
   "execution_count": 50,
   "metadata": {},
   "outputs": [
    {
     "data": {
      "text/plain": [
       "10"
      ]
     },
     "execution_count": 50,
     "metadata": {},
     "output_type": "execute_result"
    }
   ],
   "source": [
    "jose_function1(4,6)"
   ]
  },
  {
   "cell_type": "code",
   "execution_count": 51,
   "metadata": {},
   "outputs": [
    {
     "data": {
      "text/plain": [
       "24"
      ]
     },
     "execution_count": 51,
     "metadata": {},
     "output_type": "execute_result"
    }
   ],
   "source": [
    "jose_function2(4,6)"
   ]
  },
  {
   "cell_type": "markdown",
   "metadata": {},
   "source": [
    "I could have imported everything"
   ]
  },
  {
   "cell_type": "code",
   "execution_count": 52,
   "metadata": {},
   "outputs": [],
   "source": [
    "from my_functions import *"
   ]
  },
  {
   "cell_type": "markdown",
   "metadata": {},
   "source": [
    "To group many .py files put them in a folder.  \n",
    "Any folder with an __ init __.py in it is considered a module by python and you can call them a package\n",
    "\n",
    "Show here the folder my_first_package   \n",
    "\n",
    "Important note:   \n",
    "A powerful feature of Jupyter / IPython (indeed, of Python itself) is that you can interact with your data from the (I)Python command line. In order to provide this functionality, the modules which hold your data remain alive between invocations.\n",
    "Therefore once a module is imported, it stays imported, and re-importing it has no effect at all.\n",
    "\n",
    "\n"
   ]
  },
  {
   "cell_type": "code",
   "execution_count": 53,
   "metadata": {},
   "outputs": [],
   "source": [
    "import my_first_package.nicer_functions"
   ]
  },
  {
   "cell_type": "code",
   "execution_count": 54,
   "metadata": {},
   "outputs": [
    {
     "name": "stdout",
     "output_type": "stream",
     "text": [
      "['__builtins__', '__cached__', '__doc__', '__file__', '__loader__', '__name__', '__package__', '__path__', '__spec__', 'nice_func_add3', 'nicer_functions']\n"
     ]
    }
   ],
   "source": [
    "print(dir(my_first_package))"
   ]
  },
  {
   "cell_type": "code",
   "execution_count": 55,
   "metadata": {},
   "outputs": [
    {
     "name": "stdout",
     "output_type": "stream",
     "text": [
      "\n",
      "This is the doc string contained in the __init__.py file\n",
      "\n"
     ]
    }
   ],
   "source": [
    "print(my_first_package.__doc__)"
   ]
  },
  {
   "cell_type": "code",
   "execution_count": 56,
   "metadata": {},
   "outputs": [
    {
     "data": {
      "text/plain": [
       "['__builtins__',\n",
       " '__cached__',\n",
       " '__doc__',\n",
       " '__file__',\n",
       " '__loader__',\n",
       " '__name__',\n",
       " '__package__',\n",
       " '__spec__',\n",
       " 'hallo']"
      ]
     },
     "execution_count": 56,
     "metadata": {},
     "output_type": "execute_result"
    }
   ],
   "source": [
    "dir(my_first_package.nicer_functions)"
   ]
  },
  {
   "cell_type": "code",
   "execution_count": 57,
   "metadata": {},
   "outputs": [],
   "source": [
    "from my_first_package.nicer_functions import hallo as h"
   ]
  },
  {
   "cell_type": "code",
   "execution_count": 58,
   "metadata": {},
   "outputs": [
    {
     "name": "stdout",
     "output_type": "stream",
     "text": [
      "Halloname\n"
     ]
    }
   ],
   "source": [
    "print(h('name'))"
   ]
  },
  {
   "cell_type": "markdown",
   "metadata": {},
   "source": [
    "### Standard Library"
   ]
  },
  {
   "cell_type": "code",
   "execution_count": 59,
   "metadata": {},
   "outputs": [],
   "source": [
    "import os"
   ]
  },
  {
   "cell_type": "code",
   "execution_count": 60,
   "metadata": {},
   "outputs": [
    {
     "name": "stdout",
     "output_type": "stream",
     "text": [
      "OS routines for NT or Posix depending on what system we're on.\n",
      "\n",
      "This exports:\n",
      "  - all functions from posix or nt, e.g. unlink, stat, etc.\n",
      "  - os.path is either posixpath or ntpath\n",
      "  - os.name is either 'posix' or 'nt'\n",
      "  - os.curdir is a string representing the current directory (always '.')\n",
      "  - os.pardir is a string representing the parent directory (always '..')\n",
      "  - os.sep is the (or a most common) pathname separator ('/' or '\\\\')\n",
      "  - os.extsep is the extension separator (always '.')\n",
      "  - os.altsep is the alternate pathname separator (None or '/')\n",
      "  - os.pathsep is the component separator used in $PATH etc\n",
      "  - os.linesep is the line separator in text files ('\\r' or '\\n' or '\\r\\n')\n",
      "  - os.defpath is the default search path for executables\n",
      "  - os.devnull is the file path of the null device ('/dev/null', etc.)\n",
      "\n",
      "Programs that import and use 'os' stand a better chance of being\n",
      "portable between different platforms.  Of course, they must then\n",
      "only use functions that are defined by all platforms (e.g., unlink\n",
      "and opendir), and leave all pathname manipulation to os.path\n",
      "(e.g., split and join).\n",
      "\n"
     ]
    }
   ],
   "source": [
    "print(os.__doc__)"
   ]
  },
  {
   "cell_type": "code",
   "execution_count": 61,
   "metadata": {},
   "outputs": [
    {
     "name": "stdout",
     "output_type": "stream",
     "text": [
      "['DirEntry', 'F_OK', 'MutableMapping', 'O_APPEND', 'O_BINARY', 'O_CREAT', 'O_EXCL', 'O_NOINHERIT', 'O_RANDOM', 'O_RDONLY', 'O_RDWR', 'O_SEQUENTIAL', 'O_SHORT_LIVED', 'O_TEMPORARY', 'O_TEXT', 'O_TRUNC', 'O_WRONLY', 'P_DETACH', 'P_NOWAIT', 'P_NOWAITO', 'P_OVERLAY', 'P_WAIT', 'PathLike', 'R_OK', 'SEEK_CUR', 'SEEK_END', 'SEEK_SET', 'TMP_MAX', 'W_OK', 'X_OK', '_Environ', '__all__', '__builtins__', '__cached__', '__doc__', '__file__', '__loader__', '__name__', '__package__', '__spec__', '_execvpe', '_exists', '_exit', '_fspath', '_get_exports_list', '_putenv', '_unsetenv', '_wrap_close', 'abc', 'abort', 'access', 'altsep', 'chdir', 'chmod', 'close', 'closerange', 'cpu_count', 'curdir', 'defpath', 'device_encoding', 'devnull', 'dup', 'dup2', 'environ', 'error', 'execl', 'execle', 'execlp', 'execlpe', 'execv', 'execve', 'execvp', 'execvpe', 'extsep', 'fdopen', 'fsdecode', 'fsencode', 'fspath', 'fstat', 'fsync', 'ftruncate', 'get_exec_path', 'get_handle_inheritable', 'get_inheritable', 'get_terminal_size', 'getcwd', 'getcwdb', 'getenv', 'getlogin', 'getpid', 'getppid', 'isatty', 'kill', 'linesep', 'link', 'listdir', 'lseek', 'lstat', 'makedirs', 'mkdir', 'name', 'open', 'pardir', 'path', 'pathsep', 'pipe', 'popen', 'putenv', 'read', 'readlink', 'remove', 'removedirs', 'rename', 'renames', 'replace', 'rmdir', 'scandir', 'sep', 'set_handle_inheritable', 'set_inheritable', 'spawnl', 'spawnle', 'spawnv', 'spawnve', 'st', 'startfile', 'stat', 'stat_result', 'statvfs_result', 'strerror', 'supports_bytes_environ', 'supports_dir_fd', 'supports_effective_ids', 'supports_fd', 'supports_follow_symlinks', 'symlink', 'sys', 'system', 'terminal_size', 'times', 'times_result', 'truncate', 'umask', 'uname_result', 'unlink', 'urandom', 'utime', 'waitpid', 'walk', 'write']\n"
     ]
    }
   ],
   "source": [
    "print(dir(os))"
   ]
  },
  {
   "cell_type": "code",
   "execution_count": 62,
   "metadata": {},
   "outputs": [
    {
     "name": "stdout",
     "output_type": "stream",
     "text": [
      "file name:  BITUMENOUS.concept\n",
      "this is the total file name: C:\\EPODATA\\SEA\\concepts\\ BITUMENOUS.concept\n",
      "file name:  UNDER.concept\n",
      "this is the total file name: C:\\EPODATA\\SEA\\concepts\\ UNDER.concept\n",
      "file name:  UNDERNEATH.concept\n",
      "this is the total file name: C:\\EPODATA\\SEA\\concepts\\ UNDERNEATH.concept\n",
      "file name: (OR %no_fingerprinting%, %EN_HLT%, %HLT_COLOR_10%, H02S, JF30443, car).concept\n",
      "this is the total file name: C:\\EPODATA\\SEA\\concepts\\(OR %no_fingerprinting%, %EN_HLT%, %HLT_COLOR_10%, H02S, JF30443, car).concept\n",
      "file name: .concept\n",
      "this is the total file name: C:\\EPODATA\\SEA\\concepts\\.concept\n",
      "this is not a concept .workspace\n",
      "file name: 00byreference.concept\n",
      "this is the total file name: C:\\EPODATA\\SEA\\concepts\\00byreference.concept\n",
      "file name: 00embodiment.concept\n",
      "this is the total file name: C:\\EPODATA\\SEA\\concepts\\00embodiment.concept\n",
      "file name: 00layout.concept\n",
      "this is the total file name: C:\\EPODATA\\SEA\\concepts\\00layout.concept\n",
      "file name: 00mask.concept\n",
      "this is the total file name: C:\\EPODATA\\SEA\\concepts\\00mask.concept\n",
      "file name: 00priorart.concept\n",
      "this is the total file name: C:\\EPODATA\\SEA\\concepts\\00priorart.concept\n",
      "file name: 00problem.concept\n",
      "this is the total file name: C:\\EPODATA\\SEA\\concepts\\00problem.concept\n",
      "file name: 00spirit.concept\n",
      "this is the total file name: C:\\EPODATA\\SEA\\concepts\\00spirit.concept\n",
      "file name: 01byreference.concept\n",
      "this is the total file name: C:\\EPODATA\\SEA\\concepts\\01byreference.concept\n",
      "file name: 02spirit.concept\n",
      "this is the total file name: C:\\EPODATA\\SEA\\concepts\\02spirit.concept\n",
      "file name: 03priorart.concept\n",
      "this is the total file name: C:\\EPODATA\\SEA\\concepts\\03priorart.concept\n",
      "file name: 04problem.concept\n",
      "this is the total file name: C:\\EPODATA\\SEA\\concepts\\04problem.concept\n",
      "file name: 05embodiment.concept\n",
      "this is the total file name: C:\\EPODATA\\SEA\\concepts\\05embodiment.concept\n",
      "file name: 05invention.concept\n",
      "this is the total file name: C:\\EPODATA\\SEA\\concepts\\05invention.concept\n",
      "file name: 06invention.concept\n",
      "this is the total file name: C:\\EPODATA\\SEA\\concepts\\06invention.concept\n",
      "file name: 07documents.concept\n",
      "this is the total file name: C:\\EPODATA\\SEA\\concepts\\07documents.concept\n",
      "file name: actuator.concept\n",
      "this is the total file name: C:\\EPODATA\\SEA\\concepts\\actuator.concept\n",
      "file name: actuatorwithair.concept\n",
      "this is the total file name: C:\\EPODATA\\SEA\\concepts\\actuatorwithair.concept\n",
      "file name: actuatorwithfluid.concept\n",
      "this is the total file name: C:\\EPODATA\\SEA\\concepts\\actuatorwithfluid.concept\n",
      "file name: actuator_linear.concept\n",
      "this is the total file name: C:\\EPODATA\\SEA\\concepts\\actuator_linear.concept\n",
      "file name: adhesive.concept\n",
      "this is the total file name: C:\\EPODATA\\SEA\\concepts\\adhesive.concept\n",
      "file name: adjust.concept\n",
      "this is the total file name: C:\\EPODATA\\SEA\\concepts\\adjust.concept\n",
      "file name: aerodynamic.concept\n",
      "this is the total file name: C:\\EPODATA\\SEA\\concepts\\aerodynamic.concept\n",
      "file name: aerogenerator.concept\n",
      "this is the total file name: C:\\EPODATA\\SEA\\concepts\\aerogenerator.concept\n",
      "file name: air-actuator.concept\n",
      "this is the total file name: C:\\EPODATA\\SEA\\concepts\\air-actuator.concept\n",
      "file name: air.concept\n",
      "this is the total file name: C:\\EPODATA\\SEA\\concepts\\air.concept\n",
      "file name: aircirculation.concept\n",
      "this is the total file name: C:\\EPODATA\\SEA\\concepts\\aircirculation.concept\n",
      "file name: aircolector.concept\n",
      "this is the total file name: C:\\EPODATA\\SEA\\concepts\\aircolector.concept\n",
      "file name: aircollector.concept\n",
      "this is the total file name: C:\\EPODATA\\SEA\\concepts\\aircollector.concept\n",
      "file name: aislanteelectrico.concept\n",
      "this is the total file name: C:\\EPODATA\\SEA\\concepts\\aislanteelectrico.concept\n",
      "file name: albedolight.concept\n",
      "this is the total file name: C:\\EPODATA\\SEA\\concepts\\albedolight.concept\n",
      "file name: algorithm.concept\n",
      "this is the total file name: C:\\EPODATA\\SEA\\concepts\\algorithm.concept\n",
      "file name: alignement.concept\n",
      "this is the total file name: C:\\EPODATA\\SEA\\concepts\\alignement.concept\n",
      "file name: alternator.concept\n",
      "this is the total file name: C:\\EPODATA\\SEA\\concepts\\alternator.concept\n",
      "file name: altitude.concept\n",
      "this is the total file name: C:\\EPODATA\\SEA\\concepts\\altitude.concept\n",
      "file name: aluminium.concept\n",
      "this is the total file name: C:\\EPODATA\\SEA\\concepts\\aluminium.concept\n",
      "file name: angle.concept\n",
      "this is the total file name: C:\\EPODATA\\SEA\\concepts\\angle.concept\n",
      "file name: anisothropic.concept\n",
      "this is the total file name: C:\\EPODATA\\SEA\\concepts\\anisothropic.concept\n",
      "file name: anisotropic.concept\n",
      "this is the total file name: C:\\EPODATA\\SEA\\concepts\\anisotropic.concept\n",
      "file name: annular.concept\n",
      "this is the total file name: C:\\EPODATA\\SEA\\concepts\\annular.concept\n",
      "file name: antenna.concept\n",
      "this is the total file name: C:\\EPODATA\\SEA\\concepts\\antenna.concept\n",
      "file name: aplication.concept\n",
      "this is the total file name: C:\\EPODATA\\SEA\\concepts\\aplication.concept\n",
      "file name: application.concept\n",
      "this is the total file name: C:\\EPODATA\\SEA\\concepts\\application.concept\n",
      "file name: asphalt.concept\n",
      "this is the total file name: C:\\EPODATA\\SEA\\concepts\\asphalt.concept\n",
      "file name: assemblyline.concept\n",
      "this is the total file name: C:\\EPODATA\\SEA\\concepts\\assemblyline.concept\n",
      "file name: assembly_line.concept\n",
      "this is the total file name: C:\\EPODATA\\SEA\\concepts\\assembly_line.concept\n",
      "file name: attachment.concept\n",
      "this is the total file name: C:\\EPODATA\\SEA\\concepts\\attachment.concept\n",
      "file name: AUGMENTEDREALITY.concept\n",
      "this is the total file name: C:\\EPODATA\\SEA\\concepts\\AUGMENTEDREALITY.concept\n",
      "file name: ausgestanz.concept\n",
      "this is the total file name: C:\\EPODATA\\SEA\\concepts\\ausgestanz.concept\n",
      "file name: automatic.concept\n",
      "this is the total file name: C:\\EPODATA\\SEA\\concepts\\automatic.concept\n",
      "file name: autonomous.concept\n",
      "this is the total file name: C:\\EPODATA\\SEA\\concepts\\autonomous.concept\n",
      "file name: axle.concept\n",
      "this is the total file name: C:\\EPODATA\\SEA\\concepts\\axle.concept\n",
      "file name: azimuth.concept\n",
      "this is the total file name: C:\\EPODATA\\SEA\\concepts\\azimuth.concept\n",
      "file name: backsheet.concept\n",
      "this is the total file name: C:\\EPODATA\\SEA\\concepts\\backsheet.concept\n",
      "file name: backside.concept\n",
      "this is the total file name: C:\\EPODATA\\SEA\\concepts\\backside.concept\n",
      "file name: bagger.concept\n",
      "this is the total file name: C:\\EPODATA\\SEA\\concepts\\bagger.concept\n",
      "file name: ballast.concept\n",
      "this is the total file name: C:\\EPODATA\\SEA\\concepts\\ballast.concept\n",
      "file name: balljoint.concept\n",
      "this is the total file name: C:\\EPODATA\\SEA\\concepts\\balljoint.concept\n",
      "file name: bandgap.concept\n",
      "this is the total file name: C:\\EPODATA\\SEA\\concepts\\bandgap.concept\n",
      "file name: basement.concept\n",
      "this is the total file name: C:\\EPODATA\\SEA\\concepts\\basement.concept\n",
      "file name: batten.concept\n",
      "this is the total file name: C:\\EPODATA\\SEA\\concepts\\batten.concept\n",
      "file name: battery.concept\n",
      "this is the total file name: C:\\EPODATA\\SEA\\concepts\\battery.concept\n",
      "file name: bayonet.concept\n",
      "this is the total file name: C:\\EPODATA\\SEA\\concepts\\bayonet.concept\n",
      "file name: bent.concept\n",
      "this is the total file name: C:\\EPODATA\\SEA\\concepts\\bent.concept\n",
      "file name: bifacial.concept\n",
      "this is the total file name: C:\\EPODATA\\SEA\\concepts\\bifacial.concept\n",
      "file name: billboard.concept\n",
      "this is the total file name: C:\\EPODATA\\SEA\\concepts\\billboard.concept\n",
      "file name: bimetallic.concept\n",
      "this is the total file name: C:\\EPODATA\\SEA\\concepts\\bimetallic.concept\n",
      "file name: bipv.concept\n",
      "this is the total file name: C:\\EPODATA\\SEA\\concepts\\bipv.concept\n",
      "file name: bitumenous.concept\n",
      "this is the total file name: C:\\EPODATA\\SEA\\concepts\\bitumenous.concept\n",
      "file name: block.concept\n",
      "this is the total file name: C:\\EPODATA\\SEA\\concepts\\block.concept\n",
      "file name: boat.concept\n",
      "this is the total file name: C:\\EPODATA\\SEA\\concepts\\boat.concept\n",
      "file name: bodywork.concept\n",
      "this is the total file name: C:\\EPODATA\\SEA\\concepts\\bodywork.concept\n",
      "file name: brush.concept\n",
      "this is the total file name: C:\\EPODATA\\SEA\\concepts\\brush.concept\n",
      "file name: building.concept\n",
      "this is the total file name: C:\\EPODATA\\SEA\\concepts\\building.concept\n",
      "file name: busbar.concept\n",
      "this is the total file name: C:\\EPODATA\\SEA\\concepts\\busbar.concept\n",
      "file name: bypassdiode.concept\n",
      "this is the total file name: C:\\EPODATA\\SEA\\concepts\\bypassdiode.concept\n",
      "file name: cable.concept\n",
      "this is the total file name: C:\\EPODATA\\SEA\\concepts\\cable.concept\n",
      "file name: cableholder.concept\n",
      "this is the total file name: C:\\EPODATA\\SEA\\concepts\\cableholder.concept\n",
      "file name: calculation.concept\n",
      "this is the total file name: C:\\EPODATA\\SEA\\concepts\\calculation.concept\n",
      "file name: cam.concept\n",
      "this is the total file name: C:\\EPODATA\\SEA\\concepts\\cam.concept\n",
      "file name: camara.concept\n",
      "this is the total file name: C:\\EPODATA\\SEA\\concepts\\camara.concept\n",
      "file name: canopy.concept\n",
      "this is the total file name: C:\\EPODATA\\SEA\\concepts\\canopy.concept\n",
      "file name: car.concept\n",
      "this is the total file name: C:\\EPODATA\\SEA\\concepts\\car.concept\n",
      "file name: caracas.concept\n",
      "this is the total file name: C:\\EPODATA\\SEA\\concepts\\caracas.concept\n",
      "file name: carbody.concept\n",
      "this is the total file name: C:\\EPODATA\\SEA\\concepts\\carbody.concept\n",
      "file name: carbonblack.concept\n",
      "this is the total file name: C:\\EPODATA\\SEA\\concepts\\carbonblack.concept\n",
      "file name: carbonfiber.concept\n",
      "this is the total file name: C:\\EPODATA\\SEA\\concepts\\carbonfiber.concept\n",
      "file name: carbon_black.concept\n",
      "this is the total file name: C:\\EPODATA\\SEA\\concepts\\carbon_black.concept\n",
      "file name: carbon_fiber.concept\n",
      "this is the total file name: C:\\EPODATA\\SEA\\concepts\\carbon_fiber.concept\n",
      "file name: carchassis.concept\n",
      "this is the total file name: C:\\EPODATA\\SEA\\concepts\\carchassis.concept\n",
      "file name: cardan.concept\n",
      "this is the total file name: C:\\EPODATA\\SEA\\concepts\\cardan.concept\n",
      "file name: cardboard.concept\n",
      "this is the total file name: C:\\EPODATA\\SEA\\concepts\\cardboard.concept\n",
      "file name: carport.concept\n",
      "this is the total file name: C:\\EPODATA\\SEA\\concepts\\carport.concept\n",
      "file name: carriage.concept\n",
      "this is the total file name: C:\\EPODATA\\SEA\\concepts\\carriage.concept\n",
      "file name: catheter.concept\n",
      "this is the total file name: C:\\EPODATA\\SEA\\concepts\\catheter.concept\n",
      "file name: cement.concept\n",
      "this is the total file name: C:\\EPODATA\\SEA\\concepts\\cement.concept\n",
      "file name: centerofgravity.concept\n",
      "this is the total file name: C:\\EPODATA\\SEA\\concepts\\centerofgravity.concept\n",
      "file name: chamber.concept\n",
      "this is the total file name: C:\\EPODATA\\SEA\\concepts\\chamber.concept\n",
      "file name: chassis.concept\n",
      "this is the total file name: C:\\EPODATA\\SEA\\concepts\\chassis.concept\n",
      "file name: cladding.concept\n",
      "this is the total file name: C:\\EPODATA\\SEA\\concepts\\cladding.concept\n",
      "file name: claims.concept\n",
      "this is the total file name: C:\\EPODATA\\SEA\\concepts\\claims.concept\n",
      "file name: clamp.concept\n",
      "this is the total file name: C:\\EPODATA\\SEA\\concepts\\clamp.concept\n",
      "file name: clases.concept\n",
      "this is the total file name: C:\\EPODATA\\SEA\\concepts\\clases.concept\n",
      "file name: classes.concept\n",
      "this is the total file name: C:\\EPODATA\\SEA\\concepts\\classes.concept\n",
      "file name: clay.concept\n",
      "this is the total file name: C:\\EPODATA\\SEA\\concepts\\clay.concept\n",
      "file name: clean.concept\n",
      "this is the total file name: C:\\EPODATA\\SEA\\concepts\\clean.concept\n",
      "file name: cliping.concept\n",
      "this is the total file name: C:\\EPODATA\\SEA\\concepts\\cliping.concept\n",
      "file name: clothing.concept\n",
      "this is the total file name: C:\\EPODATA\\SEA\\concepts\\clothing.concept\n",
      "file name: coating.concept\n",
      "this is the total file name: C:\\EPODATA\\SEA\\concepts\\coating.concept\n",
      "file name: colores.concept\n",
      "this is the total file name: C:\\EPODATA\\SEA\\concepts\\colores.concept\n",
      "file name: combination.concept\n",
      "this is the total file name: C:\\EPODATA\\SEA\\concepts\\combination.concept\n",
      "file name: compression.concept\n",
      "this is the total file name: C:\\EPODATA\\SEA\\concepts\\compression.concept\n",
      "file name: concentration.concept\n",
      "this is the total file name: C:\\EPODATA\\SEA\\concepts\\concentration.concept\n",
      "file name: conceptcombination.concept\n",
      "this is the total file name: C:\\EPODATA\\SEA\\concepts\\conceptcombination.concept\n",
      "this is not a concept concepts - Shortcut.lnk\n",
      "file name: condensator.concept\n",
      "this is the total file name: C:\\EPODATA\\SEA\\concepts\\condensator.concept\n",
      "file name: conductor.concept\n",
      "this is the total file name: C:\\EPODATA\\SEA\\concepts\\conductor.concept\n",
      "file name: conductorheat.concept\n",
      "this is the total file name: C:\\EPODATA\\SEA\\concepts\\conductorheat.concept\n",
      "file name: cone.concept\n",
      "this is the total file name: C:\\EPODATA\\SEA\\concepts\\cone.concept\n",
      "file name: constant.concept\n",
      "this is the total file name: C:\\EPODATA\\SEA\\concepts\\constant.concept\n",
      "file name: consumption.concept\n",
      "this is the total file name: C:\\EPODATA\\SEA\\concepts\\consumption.concept\n",
      "file name: containeriso.concept\n",
      "this is the total file name: C:\\EPODATA\\SEA\\concepts\\containeriso.concept\n",
      "file name: containerisobig.concept\n",
      "this is the total file name: C:\\EPODATA\\SEA\\concepts\\containerisobig.concept\n",
      "file name: contour.concept\n",
      "this is the total file name: C:\\EPODATA\\SEA\\concepts\\contour.concept\n",
      "file name: controlunit.concept\n",
      "this is the total file name: C:\\EPODATA\\SEA\\concepts\\controlunit.concept\n",
      "file name: convex.concept\n",
      "this is the total file name: C:\\EPODATA\\SEA\\concepts\\convex.concept\n",
      "file name: coolant.concept\n",
      "this is the total file name: C:\\EPODATA\\SEA\\concepts\\coolant.concept\n",
      "file name: cooling.concept\n",
      "this is the total file name: C:\\EPODATA\\SEA\\concepts\\cooling.concept\n",
      "file name: coplanar.concept\n",
      "this is the total file name: C:\\EPODATA\\SEA\\concepts\\coplanar.concept\n",
      "file name: cord.concept\n",
      "this is the total file name: C:\\EPODATA\\SEA\\concepts\\cord.concept\n",
      "file name: corner.concept\n",
      "this is the total file name: C:\\EPODATA\\SEA\\concepts\\corner.concept\n",
      "file name: corrugated.concept\n",
      "this is the total file name: C:\\EPODATA\\SEA\\concepts\\corrugated.concept\n",
      "file name: counterweight.concept\n",
      "this is the total file name: C:\\EPODATA\\SEA\\concepts\\counterweight.concept\n",
      "file name: coupling.concept\n",
      "this is the total file name: C:\\EPODATA\\SEA\\concepts\\coupling.concept\n",
      "file name: crank_handel.concept\n",
      "this is the total file name: C:\\EPODATA\\SEA\\concepts\\crank_handel.concept\n",
      "file name: cushion.concept\n",
      "this is the total file name: C:\\EPODATA\\SEA\\concepts\\cushion.concept\n",
      "file name: cylindrical.concept\n",
      "this is the total file name: C:\\EPODATA\\SEA\\concepts\\cylindrical.concept\n",
      "file name: data.concept\n",
      "this is the total file name: C:\\EPODATA\\SEA\\concepts\\data.concept\n",
      "file name: declination.concept\n",
      "this is the total file name: C:\\EPODATA\\SEA\\concepts\\declination.concept\n",
      "file name: deformation.concept\n",
      "this is the total file name: C:\\EPODATA\\SEA\\concepts\\deformation.concept\n",
      "file name: deploy.concept\n",
      "this is the total file name: C:\\EPODATA\\SEA\\concepts\\deploy.concept\n",
      "file name: deposition.concept\n",
      "this is the total file name: C:\\EPODATA\\SEA\\concepts\\deposition.concept\n",
      "file name: detergent.concept\n",
      "this is the total file name: C:\\EPODATA\\SEA\\concepts\\detergent.concept\n",
      "file name: diagram.concept\n",
      "this is the total file name: C:\\EPODATA\\SEA\\concepts\\diagram.concept\n",
      "file name: diameter.concept\n",
      "this is the total file name: C:\\EPODATA\\SEA\\concepts\\diameter.concept\n",
      "file name: diesel.concept\n",
      "this is the total file name: C:\\EPODATA\\SEA\\concepts\\diesel.concept\n",
      "file name: different.concept\n",
      "this is the total file name: C:\\EPODATA\\SEA\\concepts\\different.concept\n",
      "file name: diode.concept\n",
      "this is the total file name: C:\\EPODATA\\SEA\\concepts\\diode.concept\n",
      "file name: distance.concept\n",
      "this is the total file name: C:\\EPODATA\\SEA\\concepts\\distance.concept\n",
      "file name: domotics.concept\n",
      "this is the total file name: C:\\EPODATA\\SEA\\concepts\\domotics.concept\n",
      "file name: door.concept\n",
      "this is the total file name: C:\\EPODATA\\SEA\\concepts\\door.concept\n",
      "file name: drehteller.concept\n",
      "this is the total file name: C:\\EPODATA\\SEA\\concepts\\drehteller.concept\n",
      "file name: driveshaft.concept\n",
      "this is the total file name: C:\\EPODATA\\SEA\\concepts\\driveshaft.concept\n",
      "file name: dummy.concept\n",
      "this is the total file name: C:\\EPODATA\\SEA\\concepts\\dummy.concept\n",
      "file name: dyesensitized.concept\n",
      "this is the total file name: C:\\EPODATA\\SEA\\concepts\\dyesensitized.concept\n",
      "file name: easyinstallation.concept\n",
      "this is the total file name: C:\\EPODATA\\SEA\\concepts\\easyinstallation.concept\n",
      "file name: eckverbindung.concept\n",
      "this is the total file name: C:\\EPODATA\\SEA\\concepts\\eckverbindung.concept\n",
      "file name: edge.concept\n",
      "this is the total file name: C:\\EPODATA\\SEA\\concepts\\edge.concept\n",
      "file name: edgekante.concept\n",
      "this is the total file name: C:\\EPODATA\\SEA\\concepts\\edgekante.concept\n",
      "file name: elastic.concept\n",
      "this is the total file name: C:\\EPODATA\\SEA\\concepts\\elastic.concept\n",
      "file name: electricalconnection.concept\n",
      "this is the total file name: C:\\EPODATA\\SEA\\concepts\\electricalconnection.concept\n",
      "file name: electricalearth.concept\n",
      "this is the total file name: C:\\EPODATA\\SEA\\concepts\\electricalearth.concept\n",
      "file name: electricity.concept\n",
      "this is the total file name: C:\\EPODATA\\SEA\\concepts\\electricity.concept\n",
      "file name: electrode.concept\n",
      "this is the total file name: C:\\EPODATA\\SEA\\concepts\\electrode.concept\n",
      "file name: electrolysis.concept\n",
      "this is the total file name: C:\\EPODATA\\SEA\\concepts\\electrolysis.concept\n",
      "file name: electromagnet.concept\n",
      "this is the total file name: C:\\EPODATA\\SEA\\concepts\\electromagnet.concept\n",
      "file name: electrostatic.concept\n",
      "this is the total file name: C:\\EPODATA\\SEA\\concepts\\electrostatic.concept\n",
      "file name: electrostaticchuck.concept\n",
      "this is the total file name: C:\\EPODATA\\SEA\\concepts\\electrostaticchuck.concept\n",
      "file name: embodiment.concept\n",
      "this is the total file name: C:\\EPODATA\\SEA\\concepts\\embodiment.concept\n",
      "file name: emitter.concept\n",
      "this is the total file name: C:\\EPODATA\\SEA\\concepts\\emitter.concept\n",
      "file name: Emodulus.concept\n",
      "this is the total file name: C:\\EPODATA\\SEA\\concepts\\Emodulus.concept\n",
      "file name: encapsulation.concept\n",
      "this is the total file name: C:\\EPODATA\\SEA\\concepts\\encapsulation.concept\n",
      "file name: energy.concept\n",
      "this is the total file name: C:\\EPODATA\\SEA\\concepts\\energy.concept\n",
      "file name: error_concept.concept\n",
      "this is the total file name: C:\\EPODATA\\SEA\\concepts\\error_concept.concept\n",
      "file name: eva.concept\n",
      "this is the total file name: C:\\EPODATA\\SEA\\concepts\\eva.concept\n",
      "file name: Example_AIRBAG.concept\n",
      "this is the total file name: C:\\EPODATA\\SEA\\concepts\\Example_AIRBAG.concept\n",
      "file name: extension.concept\n",
      "this is the total file name: C:\\EPODATA\\SEA\\concepts\\extension.concept\n",
      "file name: extrapolation.concept\n",
      "this is the total file name: C:\\EPODATA\\SEA\\concepts\\extrapolation.concept\n",
      "file name: facade.concept\n",
      "this is the total file name: C:\\EPODATA\\SEA\\concepts\\facade.concept\n",
      "file name: fasser.concept\n",
      "this is the total file name: C:\\EPODATA\\SEA\\concepts\\fasser.concept\n",
      "file name: feeding.concept\n",
      "this is the total file name: C:\\EPODATA\\SEA\\concepts\\feeding.concept\n",
      "file name: firstderivative.concept\n",
      "this is the total file name: C:\\EPODATA\\SEA\\concepts\\firstderivative.concept\n",
      "file name: flange.concept\n",
      "this is the total file name: C:\\EPODATA\\SEA\\concepts\\flange.concept\n",
      "file name: flashing.concept\n",
      "this is the total file name: C:\\EPODATA\\SEA\\concepts\\flashing.concept\n",
      "file name: flat.concept\n",
      "this is the total file name: C:\\EPODATA\\SEA\\concepts\\flat.concept\n",
      "file name: flatten.concept\n",
      "this is the total file name: C:\\EPODATA\\SEA\\concepts\\flatten.concept\n",
      "file name: flexible.concept\n",
      "this is the total file name: C:\\EPODATA\\SEA\\concepts\\flexible.concept\n",
      "file name: floating.concept\n",
      "this is the total file name: C:\\EPODATA\\SEA\\concepts\\floating.concept\n",
      "file name: fluid-actuator.concept\n",
      "this is the total file name: C:\\EPODATA\\SEA\\concepts\\fluid-actuator.concept\n",
      "file name: fluid.concept\n",
      "this is the total file name: C:\\EPODATA\\SEA\\concepts\\fluid.concept\n",
      "file name: foam.concept\n",
      "this is the total file name: C:\\EPODATA\\SEA\\concepts\\foam.concept\n",
      "file name: focallength.concept\n",
      "this is the total file name: C:\\EPODATA\\SEA\\concepts\\focallength.concept\n",
      "file name: foldable.concept\n",
      "this is the total file name: C:\\EPODATA\\SEA\\concepts\\foldable.concept\n",
      "file name: force.concept\n",
      "this is the total file name: C:\\EPODATA\\SEA\\concepts\\force.concept\n",
      "file name: forklift.concept\n",
      "this is the total file name: C:\\EPODATA\\SEA\\concepts\\forklift.concept\n",
      "file name: four.concept\n",
      "this is the total file name: C:\\EPODATA\\SEA\\concepts\\four.concept\n",
      "file name: frame.concept\n",
      "this is the total file name: C:\\EPODATA\\SEA\\concepts\\frame.concept\n",
      "file name: frameless.concept\n",
      "this is the total file name: C:\\EPODATA\\SEA\\concepts\\frameless.concept\n",
      "file name: framesurroundingprofile.concept\n",
      "this is the total file name: C:\\EPODATA\\SEA\\concepts\\framesurroundingprofile.concept\n",
      "file name: freeze.concept\n",
      "this is the total file name: C:\\EPODATA\\SEA\\concepts\\freeze.concept\n",
      "file name: fresnel.concept\n",
      "this is the total file name: C:\\EPODATA\\SEA\\concepts\\fresnel.concept\n",
      "file name: front.concept\n",
      "this is the total file name: C:\\EPODATA\\SEA\\concepts\\front.concept\n",
      "file name: frontside.concept\n",
      "this is the total file name: C:\\EPODATA\\SEA\\concepts\\frontside.concept\n",
      "file name: fshape.concept\n",
      "this is the total file name: C:\\EPODATA\\SEA\\concepts\\fshape.concept\n",
      "file name: fuel.concept\n",
      "this is the total file name: C:\\EPODATA\\SEA\\concepts\\fuel.concept\n",
      "file name: GAS ACTUATOR.concept\n",
      "this is the total file name: C:\\EPODATA\\SEA\\concepts\\GAS ACTUATOR.concept\n",
      "file name: gas_actuator.concept\n",
      "this is the total file name: C:\\EPODATA\\SEA\\concepts\\gas_actuator.concept\n",
      "file name: gear.concept\n",
      "this is the total file name: C:\\EPODATA\\SEA\\concepts\\gear.concept\n",
      "file name: gegenmoment.concept\n",
      "this is the total file name: C:\\EPODATA\\SEA\\concepts\\gegenmoment.concept\n",
      "file name: glass.concept\n",
      "this is the total file name: C:\\EPODATA\\SEA\\concepts\\glass.concept\n",
      "file name: glasswool.concept\n",
      "this is the total file name: C:\\EPODATA\\SEA\\concepts\\glasswool.concept\n",
      "file name: graphene.concept\n",
      "this is the total file name: C:\\EPODATA\\SEA\\concepts\\graphene.concept\n",
      "file name: greenhouse.concept\n",
      "this is the total file name: C:\\EPODATA\\SEA\\concepts\\greenhouse.concept\n",
      "file name: grip.concept\n",
      "this is the total file name: C:\\EPODATA\\SEA\\concepts\\grip.concept\n",
      "file name: groove.concept\n",
      "this is the total file name: C:\\EPODATA\\SEA\\concepts\\groove.concept\n",
      "file name: gummi.concept\n",
      "this is the total file name: C:\\EPODATA\\SEA\\concepts\\gummi.concept\n",
      "file name: gusset.concept\n",
      "this is the total file name: C:\\EPODATA\\SEA\\concepts\\gusset.concept\n",
      "file name: gutter.concept\n",
      "this is the total file name: C:\\EPODATA\\SEA\\concepts\\gutter.concept\n",
      "file name: gyroscope.concept\n",
      "this is the total file name: C:\\EPODATA\\SEA\\concepts\\gyroscope.concept\n",
      "file name: h-actuator.concept\n",
      "this is the total file name: C:\\EPODATA\\SEA\\concepts\\h-actuator.concept\n",
      "file name: handle.concept\n",
      "this is the total file name: C:\\EPODATA\\SEA\\concepts\\handle.concept\n",
      "file name: hang.concept\n",
      "this is the total file name: C:\\EPODATA\\SEA\\concepts\\hang.concept\n",
      "file name: hard.concept\n",
      "this is the total file name: C:\\EPODATA\\SEA\\concepts\\hard.concept\n",
      "file name: heat.concept\n",
      "this is the total file name: C:\\EPODATA\\SEA\\concepts\\heat.concept\n",
      "file name: heataccumulator.concept\n",
      "this is the total file name: C:\\EPODATA\\SEA\\concepts\\heataccumulator.concept\n",
      "file name: heatexchanger.concept\n",
      "this is the total file name: C:\\EPODATA\\SEA\\concepts\\heatexchanger.concept\n",
      "file name: heatpump.concept\n",
      "this is the total file name: C:\\EPODATA\\SEA\\concepts\\heatpump.concept\n",
      "file name: heatsink.concept\n",
      "this is the total file name: C:\\EPODATA\\SEA\\concepts\\heatsink.concept\n",
      "file name: heatstorage.concept\n",
      "this is the total file name: C:\\EPODATA\\SEA\\concepts\\heatstorage.concept\n",
      "file name: heattransfer.concept\n",
      "this is the total file name: C:\\EPODATA\\SEA\\concepts\\heattransfer.concept\n",
      "file name: heat_transfer.concept\n",
      "this is the total file name: C:\\EPODATA\\SEA\\concepts\\heat_transfer.concept\n",
      "file name: heliostat.concept\n",
      "this is the total file name: C:\\EPODATA\\SEA\\concepts\\heliostat.concept\n",
      "file name: high.concept\n",
      "this is the total file name: C:\\EPODATA\\SEA\\concepts\\high.concept\n",
      "file name: hinge.concept\n",
      "this is the total file name: C:\\EPODATA\\SEA\\concepts\\hinge.concept\n",
      "file name: hole.concept\n",
      "this is the total file name: C:\\EPODATA\\SEA\\concepts\\hole.concept\n",
      "file name: honeycomb.concept\n",
      "this is the total file name: C:\\EPODATA\\SEA\\concepts\\honeycomb.concept\n",
      "file name: hood.concept\n",
      "this is the total file name: C:\\EPODATA\\SEA\\concepts\\hood.concept\n",
      "file name: hook.concept\n",
      "this is the total file name: C:\\EPODATA\\SEA\\concepts\\hook.concept\n",
      "file name: hookhacken.concept\n",
      "this is the total file name: C:\\EPODATA\\SEA\\concepts\\hookhacken.concept\n",
      "file name: hook_hacken.concept\n",
      "this is the total file name: C:\\EPODATA\\SEA\\concepts\\hook_hacken.concept\n",
      "file name: horizont.concept\n",
      "this is the total file name: C:\\EPODATA\\SEA\\concepts\\horizont.concept\n",
      "file name: horizontal.concept\n",
      "this is the total file name: C:\\EPODATA\\SEA\\concepts\\horizontal.concept\n",
      "file name: housing.concept\n",
      "this is the total file name: C:\\EPODATA\\SEA\\concepts\\housing.concept\n",
      "file name: hybrid.concept\n",
      "this is the total file name: C:\\EPODATA\\SEA\\concepts\\hybrid.concept\n",
      "file name: hydraulic_actuator.concept\n",
      "this is the total file name: C:\\EPODATA\\SEA\\concepts\\hydraulic_actuator.concept\n",
      "file name: impedance.concept\n",
      "this is the total file name: C:\\EPODATA\\SEA\\concepts\\impedance.concept\n",
      "file name: inclination.concept\n",
      "this is the total file name: C:\\EPODATA\\SEA\\concepts\\inclination.concept\n",
      "file name: induction.concept\n",
      "this is the total file name: C:\\EPODATA\\SEA\\concepts\\induction.concept\n",
      "file name: infrared.concept\n",
      "this is the total file name: C:\\EPODATA\\SEA\\concepts\\infrared.concept\n",
      "file name: install.concept\n",
      "this is the total file name: C:\\EPODATA\\SEA\\concepts\\install.concept\n",
      "file name: inverter.concept\n",
      "this is the total file name: C:\\EPODATA\\SEA\\concepts\\inverter.concept\n",
      "file name: isolation.concept\n",
      "this is the total file name: C:\\EPODATA\\SEA\\concepts\\isolation.concept\n",
      "file name: Jalousie.concept\n",
      "this is the total file name: C:\\EPODATA\\SEA\\concepts\\Jalousie.concept\n",
      "file name: Jose_example.concept\n",
      "this is the total file name: C:\\EPODATA\\SEA\\concepts\\Jose_example.concept\n",
      "file name: junctionbox.concept\n",
      "this is the total file name: C:\\EPODATA\\SEA\\concepts\\junctionbox.concept\n",
      "file name: juxtaposing.concept\n",
      "this is the total file name: C:\\EPODATA\\SEA\\concepts\\juxtaposing.concept\n",
      "file name: kantenschutz.concept\n",
      "this is the total file name: C:\\EPODATA\\SEA\\concepts\\kantenschutz.concept\n",
      "file name: klappbar.concept\n",
      "this is the total file name: C:\\EPODATA\\SEA\\concepts\\klappbar.concept\n",
      "file name: klappbaresgestell.concept\n",
      "this is the total file name: C:\\EPODATA\\SEA\\concepts\\klappbaresgestell.concept\n",
      "file name: lamellen.concept\n",
      "this is the total file name: C:\\EPODATA\\SEA\\concepts\\lamellen.concept\n",
      "file name: laminate.concept\n",
      "this is the total file name: C:\\EPODATA\\SEA\\concepts\\laminate.concept\n",
      "file name: lamp.concept\n",
      "this is the total file name: C:\\EPODATA\\SEA\\concepts\\lamp.concept\n",
      "file name: langloch.concept\n",
      "this is the total file name: C:\\EPODATA\\SEA\\concepts\\langloch.concept\n",
      "file name: lateral.concept\n",
      "this is the total file name: C:\\EPODATA\\SEA\\concepts\\lateral.concept\n",
      "file name: latern.concept\n",
      "this is the total file name: C:\\EPODATA\\SEA\\concepts\\latern.concept\n",
      "file name: latitude.concept\n",
      "this is the total file name: C:\\EPODATA\\SEA\\concepts\\latitude.concept\n",
      "file name: lattice.concept\n",
      "this is the total file name: C:\\EPODATA\\SEA\\concepts\\lattice.concept\n",
      "file name: layer.concept\n",
      "this is the total file name: C:\\EPODATA\\SEA\\concepts\\layer.concept\n",
      "file name: leafspring.concept\n",
      "this is the total file name: C:\\EPODATA\\SEA\\concepts\\leafspring.concept\n",
      "file name: leakage.concept\n",
      "this is the total file name: C:\\EPODATA\\SEA\\concepts\\leakage.concept\n",
      "file name: left.concept\n",
      "this is the total file name: C:\\EPODATA\\SEA\\concepts\\left.concept\n",
      "file name: leg.concept\n",
      "this is the total file name: C:\\EPODATA\\SEA\\concepts\\leg.concept\n",
      "file name: lens.concept\n",
      "this is the total file name: C:\\EPODATA\\SEA\\concepts\\lens.concept\n",
      "file name: lever.concept\n",
      "this is the total file name: C:\\EPODATA\\SEA\\concepts\\lever.concept\n",
      "file name: lid.concept\n",
      "this is the total file name: C:\\EPODATA\\SEA\\concepts\\lid.concept\n",
      "file name: light.concept\n",
      "this is the total file name: C:\\EPODATA\\SEA\\concepts\\light.concept\n",
      "file name: lightweigh.concept\n",
      "this is the total file name: C:\\EPODATA\\SEA\\concepts\\lightweigh.concept\n",
      "file name: light_concentration.concept\n",
      "this is the total file name: C:\\EPODATA\\SEA\\concepts\\light_concentration.concept\n",
      "file name: linearactuator.concept\n",
      "this is the total file name: C:\\EPODATA\\SEA\\concepts\\linearactuator.concept\n",
      "file name: location.concept\n",
      "this is the total file name: C:\\EPODATA\\SEA\\concepts\\location.concept\n",
      "file name: lockingmechanism.concept\n",
      "this is the total file name: C:\\EPODATA\\SEA\\concepts\\lockingmechanism.concept\n",
      "file name: louver.concept\n",
      "this is the total file name: C:\\EPODATA\\SEA\\concepts\\louver.concept\n",
      "file name: low.concept\n",
      "this is the total file name: C:\\EPODATA\\SEA\\concepts\\low.concept\n",
      "file name: lower.concept\n",
      "this is the total file name: C:\\EPODATA\\SEA\\concepts\\lower.concept\n",
      "file name: Lshape.concept\n",
      "this is the total file name: C:\\EPODATA\\SEA\\concepts\\Lshape.concept\n",
      "file name: machine.concept\n",
      "this is the total file name: C:\\EPODATA\\SEA\\concepts\\machine.concept\n",
      "file name: madou.concept\n",
      "this is the total file name: C:\\EPODATA\\SEA\\concepts\\madou.concept\n",
      "file name: maintenance.concept\n",
      "this is the total file name: C:\\EPODATA\\SEA\\concepts\\maintenance.concept\n",
      "file name: manufactoring.concept\n",
      "this is the total file name: C:\\EPODATA\\SEA\\concepts\\manufactoring.concept\n",
      "file name: marker.concept\n",
      "this is the total file name: C:\\EPODATA\\SEA\\concepts\\marker.concept\n",
      "file name: mast.concept\n",
      "this is the total file name: C:\\EPODATA\\SEA\\concepts\\mast.concept\n",
      "file name: materialcement.concept\n",
      "this is the total file name: C:\\EPODATA\\SEA\\concepts\\materialcement.concept\n",
      "file name: materialwood.concept\n",
      "this is the total file name: C:\\EPODATA\\SEA\\concepts\\materialwood.concept\n",
      "file name: measurement.concept\n",
      "this is the total file name: C:\\EPODATA\\SEA\\concepts\\measurement.concept\n",
      "file name: membrane.concept\n",
      "this is the total file name: C:\\EPODATA\\SEA\\concepts\\membrane.concept\n",
      "file name: membranesoft.concept\n",
      "this is the total file name: C:\\EPODATA\\SEA\\concepts\\membranesoft.concept\n",
      "file name: metal.concept\n",
      "this is the total file name: C:\\EPODATA\\SEA\\concepts\\metal.concept\n",
      "file name: metalic.concept\n",
      "this is the total file name: C:\\EPODATA\\SEA\\concepts\\metalic.concept\n",
      "file name: method.concept\n",
      "this is the total file name: C:\\EPODATA\\SEA\\concepts\\method.concept\n",
      "file name: mirror.concept\n",
      "this is the total file name: C:\\EPODATA\\SEA\\concepts\\mirror.concept\n",
      "file name: misalignment.concept\n",
      "this is the total file name: C:\\EPODATA\\SEA\\concepts\\misalignment.concept\n",
      "file name: mobilephone.concept\n",
      "this is the total file name: C:\\EPODATA\\SEA\\concepts\\mobilephone.concept\n",
      "file name: modular.concept\n",
      "this is the total file name: C:\\EPODATA\\SEA\\concepts\\modular.concept\n",
      "file name: moltensalt.concept\n",
      "this is the total file name: C:\\EPODATA\\SEA\\concepts\\moltensalt.concept\n",
      "file name: moment.concept\n",
      "this is the total file name: C:\\EPODATA\\SEA\\concepts\\moment.concept\n",
      "file name: monocrystalline.concept\n",
      "this is the total file name: C:\\EPODATA\\SEA\\concepts\\monocrystalline.concept\n",
      "file name: motor.concept\n",
      "this is the total file name: C:\\EPODATA\\SEA\\concepts\\motor.concept\n",
      "file name: mould.concept\n",
      "this is the total file name: C:\\EPODATA\\SEA\\concepts\\mould.concept\n",
      "file name: MPPT.concept\n",
      "this is the total file name: C:\\EPODATA\\SEA\\concepts\\MPPT.concept\n",
      "file name: MULTICONCEPT.concept\n",
      "this is the total file name: C:\\EPODATA\\SEA\\concepts\\MULTICONCEPT.concept\n",
      "file name: My Concept unwind.concept\n",
      "this is the total file name: C:\\EPODATA\\SEA\\concepts\\My Concept unwind.concept\n",
      "file name: mycls2030.concept\n",
      "this is the total file name: C:\\EPODATA\\SEA\\concepts\\mycls2030.concept\n",
      "file name: new.concept\n",
      "this is the total file name: C:\\EPODATA\\SEA\\concepts\\new.concept\n",
      "file name: north.concept\n",
      "this is the total file name: C:\\EPODATA\\SEA\\concepts\\north.concept\n",
      "file name: nozzlecooling.concept\n",
      "this is the total file name: C:\\EPODATA\\SEA\\concepts\\nozzlecooling.concept\n",
      "file name: nozzleinmoulding.concept\n",
      "this is the total file name: C:\\EPODATA\\SEA\\concepts\\nozzleinmoulding.concept\n",
      "file name: off-grid.concept\n",
      "this is the total file name: C:\\EPODATA\\SEA\\concepts\\off-grid.concept\n",
      "file name: onepiece.concept\n",
      "this is the total file name: C:\\EPODATA\\SEA\\concepts\\onepiece.concept\n",
      "file name: onetomany.concept\n",
      "this is the total file name: C:\\EPODATA\\SEA\\concepts\\onetomany.concept\n",
      "file name: operator.concept\n",
      "this is the total file name: C:\\EPODATA\\SEA\\concepts\\operator.concept\n",
      "file name: organic.concept\n",
      "this is the total file name: C:\\EPODATA\\SEA\\concepts\\organic.concept\n",
      "file name: orientation.concept\n",
      "this is the total file name: C:\\EPODATA\\SEA\\concepts\\orientation.concept\n",
      "file name: overlapping.concept\n",
      "this is the total file name: C:\\EPODATA\\SEA\\concepts\\overlapping.concept\n",
      "file name: oxidation.concept\n",
      "this is the total file name: C:\\EPODATA\\SEA\\concepts\\oxidation.concept\n",
      "file name: oxido.concept\n",
      "this is the total file name: C:\\EPODATA\\SEA\\concepts\\oxido.concept\n",
      "file name: oxygen.concept\n",
      "this is the total file name: C:\\EPODATA\\SEA\\concepts\\oxygen.concept\n",
      "file name: pantograf.concept\n",
      "this is the total file name: C:\\EPODATA\\SEA\\concepts\\pantograf.concept\n",
      "file name: parallelconnection.concept\n",
      "this is the total file name: C:\\EPODATA\\SEA\\concepts\\parallelconnection.concept\n",
      "file name: parasitcapacitance.concept\n",
      "this is the total file name: C:\\EPODATA\\SEA\\concepts\\parasitcapacitance.concept\n",
      "file name: particula.concept\n",
      "this is the total file name: C:\\EPODATA\\SEA\\concepts\\particula.concept\n",
      "file name: pattern.concept\n",
      "this is the total file name: C:\\EPODATA\\SEA\\concepts\\pattern.concept\n",
      "file name: pcm.concept\n",
      "this is the total file name: C:\\EPODATA\\SEA\\concepts\\pcm.concept\n",
      "file name: peltier.concept\n",
      "this is the total file name: C:\\EPODATA\\SEA\\concepts\\peltier.concept\n",
      "file name: perovskite.concept\n",
      "this is the total file name: C:\\EPODATA\\SEA\\concepts\\perovskite.concept\n",
      "file name: perpendicular.concept\n",
      "this is the total file name: C:\\EPODATA\\SEA\\concepts\\perpendicular.concept\n",
      "file name: pfost.concept\n",
      "this is the total file name: C:\\EPODATA\\SEA\\concepts\\pfost.concept\n",
      "file name: photo.concept\n",
      "this is the total file name: C:\\EPODATA\\SEA\\concepts\\photo.concept\n",
      "file name: photoactuator.concept\n",
      "this is the total file name: C:\\EPODATA\\SEA\\concepts\\photoactuator.concept\n",
      "file name: photodetector.concept\n",
      "this is the total file name: C:\\EPODATA\\SEA\\concepts\\photodetector.concept\n",
      "file name: PHOTOSENSITIVE.concept\n",
      "this is the total file name: C:\\EPODATA\\SEA\\concepts\\PHOTOSENSITIVE.concept\n",
      "file name: physicaldeposition.concept\n",
      "this is the total file name: C:\\EPODATA\\SEA\\concepts\\physicaldeposition.concept\n",
      "file name: Pierre.concept\n",
      "this is the total file name: C:\\EPODATA\\SEA\\concepts\\Pierre.concept\n",
      "file name: pinion.concept\n",
      "this is the total file name: C:\\EPODATA\\SEA\\concepts\\pinion.concept\n",
      "file name: pinnutbolt.concept\n",
      "this is the total file name: C:\\EPODATA\\SEA\\concepts\\pinnutbolt.concept\n",
      "file name: pivot.concept\n",
      "this is the total file name: C:\\EPODATA\\SEA\\concepts\\pivot.concept\n",
      "file name: plastic.concept\n",
      "this is the total file name: C:\\EPODATA\\SEA\\concepts\\plastic.concept\n",
      "file name: ply-big.concept\n",
      "this is the total file name: C:\\EPODATA\\SEA\\concepts\\ply-big.concept\n",
      "file name: ply.concept\n",
      "this is the total file name: C:\\EPODATA\\SEA\\concepts\\ply.concept\n",
      "file name: pneumatic.concept\n",
      "this is the total file name: C:\\EPODATA\\SEA\\concepts\\pneumatic.concept\n",
      "file name: pneumatic_actuator.concept\n",
      "this is the total file name: C:\\EPODATA\\SEA\\concepts\\pneumatic_actuator.concept\n",
      "file name: polycristaline.concept\n",
      "this is the total file name: C:\\EPODATA\\SEA\\concepts\\polycristaline.concept\n",
      "file name: polycristalline.concept\n",
      "this is the total file name: C:\\EPODATA\\SEA\\concepts\\polycristalline.concept\n",
      "file name: POLYCRYSTALLINE.concept\n",
      "this is the total file name: C:\\EPODATA\\SEA\\concepts\\POLYCRYSTALLINE.concept\n",
      "file name: polymer.concept\n",
      "this is the total file name: C:\\EPODATA\\SEA\\concepts\\polymer.concept\n",
      "file name: power.concept\n",
      "this is the total file name: C:\\EPODATA\\SEA\\concepts\\power.concept\n",
      "file name: powerplant.concept\n",
      "this is the total file name: C:\\EPODATA\\SEA\\concepts\\powerplant.concept\n",
      "file name: pressdown.concept\n",
      "this is the total file name: C:\\EPODATA\\SEA\\concepts\\pressdown.concept\n",
      "file name: problem.concept\n",
      "this is the total file name: C:\\EPODATA\\SEA\\concepts\\problem.concept\n",
      "file name: protection.concept\n",
      "this is the total file name: C:\\EPODATA\\SEA\\concepts\\protection.concept\n",
      "file name: pump.concept\n",
      "this is the total file name: C:\\EPODATA\\SEA\\concepts\\pump.concept\n",
      "file name: pusher.concept\n",
      "this is the total file name: C:\\EPODATA\\SEA\\concepts\\pusher.concept\n",
      "file name: pv.concept\n",
      "this is the total file name: C:\\EPODATA\\SEA\\concepts\\pv.concept\n",
      "file name: pvmodule.concept\n",
      "this is the total file name: C:\\EPODATA\\SEA\\concepts\\pvmodule.concept\n",
      "this is not a concept qbaConcept.tmp\n",
      "this is not a concept QBAs.xls\n",
      "this is not a concept QBAsCSV.csv\n",
      "this is not a concept QBAsCSV.xls\n",
      "this is not a concept QBAsList.txt\n",
      "this is not a concept QBAsList_backup_2019-03-20.txt\n",
      "file name: QBAwitherror.concept\n",
      "this is the total file name: C:\\EPODATA\\SEA\\concepts\\QBAwitherror.concept\n",
      "this is not a concept QBA_export_log.txt\n",
      "file name: rafter.concept\n",
      "this is the total file name: C:\\EPODATA\\SEA\\concepts\\rafter.concept\n",
      "file name: rail.concept\n",
      "this is the total file name: C:\\EPODATA\\SEA\\concepts\\rail.concept\n",
      "file name: rain.concept\n",
      "this is the total file name: C:\\EPODATA\\SEA\\concepts\\rain.concept\n",
      "file name: rankine.concept\n",
      "this is the total file name: C:\\EPODATA\\SEA\\concepts\\rankine.concept\n",
      "file name: ratchet.concept\n",
      "this is the total file name: C:\\EPODATA\\SEA\\concepts\\ratchet.concept\n",
      "file name: rear.concept\n",
      "this is the total file name: C:\\EPODATA\\SEA\\concepts\\rear.concept\n",
      "file name: recess.concept\n",
      "this is the total file name: C:\\EPODATA\\SEA\\concepts\\recess.concept\n",
      "file name: reciever.concept\n",
      "this is the total file name: C:\\EPODATA\\SEA\\concepts\\reciever.concept\n",
      "file name: refraction.concept\n",
      "this is the total file name: C:\\EPODATA\\SEA\\concepts\\refraction.concept\n",
      "file name: refraction_index.concept\n",
      "this is the total file name: C:\\EPODATA\\SEA\\concepts\\refraction_index.concept\n",
      "file name: reinforcedfiber.concept\n",
      "this is the total file name: C:\\EPODATA\\SEA\\concepts\\reinforcedfiber.concept\n",
      "file name: reinforcement.concept\n",
      "this is the total file name: C:\\EPODATA\\SEA\\concepts\\reinforcement.concept\n",
      "file name: removable.concept\n",
      "this is the total file name: C:\\EPODATA\\SEA\\concepts\\removable.concept\n",
      "file name: resilient.concept\n",
      "this is the total file name: C:\\EPODATA\\SEA\\concepts\\resilient.concept\n",
      "file name: resistance.concept\n",
      "this is the total file name: C:\\EPODATA\\SEA\\concepts\\resistance.concept\n",
      "file name: resonance.concept\n",
      "this is the total file name: C:\\EPODATA\\SEA\\concepts\\resonance.concept\n",
      "file name: resortmuelle.concept\n",
      "this is the total file name: C:\\EPODATA\\SEA\\concepts\\resortmuelle.concept\n",
      "file name: retrofit.concept\n",
      "this is the total file name: C:\\EPODATA\\SEA\\concepts\\retrofit.concept\n",
      "file name: right.concept\n",
      "this is the total file name: C:\\EPODATA\\SEA\\concepts\\right.concept\n",
      "file name: road.concept\n",
      "this is the total file name: C:\\EPODATA\\SEA\\concepts\\road.concept\n",
      "file name: robot.concept\n",
      "this is the total file name: C:\\EPODATA\\SEA\\concepts\\robot.concept\n",
      "file name: roller.concept\n",
      "this is the total file name: C:\\EPODATA\\SEA\\concepts\\roller.concept\n",
      "file name: rollup.concept\n",
      "this is the total file name: C:\\EPODATA\\SEA\\concepts\\rollup.concept\n",
      "file name: roof.concept\n",
      "this is the total file name: C:\\EPODATA\\SEA\\concepts\\roof.concept\n",
      "file name: roofeave.concept\n",
      "this is the total file name: C:\\EPODATA\\SEA\\concepts\\roofeave.concept\n",
      "file name: roofhip.concept\n",
      "this is the total file name: C:\\EPODATA\\SEA\\concepts\\roofhip.concept\n",
      "file name: roofimbricate.concept\n",
      "this is the total file name: C:\\EPODATA\\SEA\\concepts\\roofimbricate.concept\n",
      "file name: rooflateral.concept\n",
      "this is the total file name: C:\\EPODATA\\SEA\\concepts\\rooflateral.concept\n",
      "file name: roofmitrejoint.concept\n",
      "this is the total file name: C:\\EPODATA\\SEA\\concepts\\roofmitrejoint.concept\n",
      "file name: roofridge.concept\n",
      "this is the total file name: C:\\EPODATA\\SEA\\concepts\\roofridge.concept\n",
      "file name: roofsheet.concept\n",
      "this is the total file name: C:\\EPODATA\\SEA\\concepts\\roofsheet.concept\n",
      "file name: Rose.concept\n",
      "this is the total file name: C:\\EPODATA\\SEA\\concepts\\Rose.concept\n",
      "file name: rotate.concept\n",
      "this is the total file name: C:\\EPODATA\\SEA\\concepts\\rotate.concept\n",
      "file name: rotation.concept\n",
      "this is the total file name: C:\\EPODATA\\SEA\\concepts\\rotation.concept\n",
      "file name: rows.concept\n",
      "this is the total file name: C:\\EPODATA\\SEA\\concepts\\rows.concept\n",
      "file name: rubbersall.concept\n",
      "this is the total file name: C:\\EPODATA\\SEA\\concepts\\rubbersall.concept\n",
      "file name: salt.concept\n",
      "this is the total file name: C:\\EPODATA\\SEA\\concepts\\salt.concept\n",
      "file name: sandwich.concept\n",
      "this is the total file name: C:\\EPODATA\\SEA\\concepts\\sandwich.concept\n",
      "file name: satelite.concept\n",
      "this is the total file name: C:\\EPODATA\\SEA\\concepts\\satelite.concept\n",
      "file name: satellite.concept\n",
      "this is the total file name: C:\\EPODATA\\SEA\\concepts\\satellite.concept\n",
      "file name: schlitz.concept\n",
      "this is the total file name: C:\\EPODATA\\SEA\\concepts\\schlitz.concept\n",
      "file name: screentest.concept\n",
      "this is the total file name: C:\\EPODATA\\SEA\\concepts\\screentest.concept\n",
      "file name: screw.concept\n",
      "this is the total file name: C:\\EPODATA\\SEA\\concepts\\screw.concept\n",
      "file name: sealing.concept\n",
      "this is the total file name: C:\\EPODATA\\SEA\\concepts\\sealing.concept\n",
      "file name: seasons.concept\n",
      "this is the total file name: C:\\EPODATA\\SEA\\concepts\\seasons.concept\n",
      "file name: secondderivative.concept\n",
      "this is the total file name: C:\\EPODATA\\SEA\\concepts\\secondderivative.concept\n",
      "file name: section.concept\n",
      "this is the total file name: C:\\EPODATA\\SEA\\concepts\\section.concept\n",
      "file name: sensor.concept\n",
      "this is the total file name: C:\\EPODATA\\SEA\\concepts\\sensor.concept\n",
      "file name: separation.concept\n",
      "this is the total file name: C:\\EPODATA\\SEA\\concepts\\separation.concept\n",
      "file name: Sergio.concept\n",
      "this is the total file name: C:\\EPODATA\\SEA\\concepts\\Sergio.concept\n",
      "file name: seriesconnection.concept\n",
      "this is the total file name: C:\\EPODATA\\SEA\\concepts\\seriesconnection.concept\n",
      "file name: shadow.concept\n",
      "this is the total file name: C:\\EPODATA\\SEA\\concepts\\shadow.concept\n",
      "file name: shaft.concept\n",
      "this is the total file name: C:\\EPODATA\\SEA\\concepts\\shaft.concept\n",
      "file name: shapef.concept\n",
      "this is the total file name: C:\\EPODATA\\SEA\\concepts\\shapef.concept\n",
      "file name: shapel.concept\n",
      "this is the total file name: C:\\EPODATA\\SEA\\concepts\\shapel.concept\n",
      "file name: shapeu.concept\n",
      "this is the total file name: C:\\EPODATA\\SEA\\concepts\\shapeu.concept\n",
      "file name: shingle.concept\n",
      "this is the total file name: C:\\EPODATA\\SEA\\concepts\\shingle.concept\n",
      "file name: shortcircuit.concept\n",
      "this is the total file name: C:\\EPODATA\\SEA\\concepts\\shortcircuit.concept\n",
      "file name: sicherungsring.concept\n",
      "this is the total file name: C:\\EPODATA\\SEA\\concepts\\sicherungsring.concept\n",
      "file name: slab.concept\n",
      "this is the total file name: C:\\EPODATA\\SEA\\concepts\\slab.concept\n",
      "file name: sliding.concept\n",
      "this is the total file name: C:\\EPODATA\\SEA\\concepts\\sliding.concept\n",
      "file name: slope.concept\n",
      "this is the total file name: C:\\EPODATA\\SEA\\concepts\\slope.concept\n",
      "file name: slotschlitz.concept\n",
      "this is the total file name: C:\\EPODATA\\SEA\\concepts\\slotschlitz.concept\n",
      "file name: snow.concept\n",
      "this is the total file name: C:\\EPODATA\\SEA\\concepts\\snow.concept\n",
      "file name: software.concept\n",
      "this is the total file name: C:\\EPODATA\\SEA\\concepts\\software.concept\n",
      "file name: SOLARCELL.concept\n",
      "this is the total file name: C:\\EPODATA\\SEA\\concepts\\SOLARCELL.concept\n",
      "file name: solartextil.concept\n",
      "this is the total file name: C:\\EPODATA\\SEA\\concepts\\solartextil.concept\n",
      "file name: solenoid.concept\n",
      "this is the total file name: C:\\EPODATA\\SEA\\concepts\\solenoid.concept\n",
      "file name: spacer.concept\n",
      "this is the total file name: C:\\EPODATA\\SEA\\concepts\\spacer.concept\n",
      "file name: spirit.concept\n",
      "this is the total file name: C:\\EPODATA\\SEA\\concepts\\spirit.concept\n",
      "file name: spline.concept\n",
      "this is the total file name: C:\\EPODATA\\SEA\\concepts\\spline.concept\n",
      "file name: spoiler.concept\n",
      "this is the total file name: C:\\EPODATA\\SEA\\concepts\\spoiler.concept\n",
      "file name: stacking.concept\n",
      "this is the total file name: C:\\EPODATA\\SEA\\concepts\\stacking.concept\n",
      "file name: stopper.concept\n",
      "this is the total file name: C:\\EPODATA\\SEA\\concepts\\stopper.concept\n",
      "file name: strain.concept\n",
      "this is the total file name: C:\\EPODATA\\SEA\\concepts\\strain.concept\n",
      "file name: stress_concentration.concept\n",
      "this is the total file name: C:\\EPODATA\\SEA\\concepts\\stress_concentration.concept\n",
      "file name: strip.concept\n",
      "this is the total file name: C:\\EPODATA\\SEA\\concepts\\strip.concept\n",
      "file name: subject.concept\n",
      "this is the total file name: C:\\EPODATA\\SEA\\concepts\\subject.concept\n",
      "file name: substrate.concept\n",
      "this is the total file name: C:\\EPODATA\\SEA\\concepts\\substrate.concept\n",
      "file name: sun.concept\n",
      "this is the total file name: C:\\EPODATA\\SEA\\concepts\\sun.concept\n",
      "file name: sunelevation.concept\n",
      "this is the total file name: C:\\EPODATA\\SEA\\concepts\\sunelevation.concept\n",
      "file name: sunpath.concept\n",
      "this is the total file name: C:\\EPODATA\\SEA\\concepts\\sunpath.concept\n",
      "file name: surface.concept\n",
      "this is the total file name: C:\\EPODATA\\SEA\\concepts\\surface.concept\n",
      "file name: surface_treatment.concept\n",
      "this is the total file name: C:\\EPODATA\\SEA\\concepts\\surface_treatment.concept\n",
      "file name: telescopic.concept\n",
      "this is the total file name: C:\\EPODATA\\SEA\\concepts\\telescopic.concept\n",
      "file name: temperaturdelta.concept\n",
      "this is the total file name: C:\\EPODATA\\SEA\\concepts\\temperaturdelta.concept\n",
      "file name: temperature.concept\n",
      "this is the total file name: C:\\EPODATA\\SEA\\concepts\\temperature.concept\n",
      "file name: temperaturedelta.concept\n",
      "this is the total file name: C:\\EPODATA\\SEA\\concepts\\temperaturedelta.concept\n",
      "file name: temperedglass.concept\n",
      "this is the total file name: C:\\EPODATA\\SEA\\concepts\\temperedglass.concept\n",
      "file name: terrain.concept\n",
      "this is the total file name: C:\\EPODATA\\SEA\\concepts\\terrain.concept\n",
      "file name: test.concept\n",
      "this is the total file name: C:\\EPODATA\\SEA\\concepts\\test.concept\n",
      "this is not a concept test.XML\n",
      "file name: test3.concept\n",
      "this is the total file name: C:\\EPODATA\\SEA\\concepts\\test3.concept\n",
      "file name: testansi.concept\n",
      "this is the total file name: C:\\EPODATA\\SEA\\concepts\\testansi.concept\n",
      "file name: testapi.concept\n",
      "this is the total file name: C:\\EPODATA\\SEA\\concepts\\testapi.concept\n",
      "file name: testing.concept\n",
      "this is the total file name: C:\\EPODATA\\SEA\\concepts\\testing.concept\n",
      "file name: testjose.concept\n",
      "this is the total file name: C:\\EPODATA\\SEA\\concepts\\testjose.concept\n",
      "file name: testXX.concept\n",
      "this is the total file name: C:\\EPODATA\\SEA\\concepts\\testXX.concept\n",
      "file name: textil.concept\n",
      "this is the total file name: C:\\EPODATA\\SEA\\concepts\\textil.concept\n",
      "file name: theeth.concept\n",
      "this is the total file name: C:\\EPODATA\\SEA\\concepts\\theeth.concept\n",
      "file name: thermal_bridge.concept\n",
      "this is the total file name: C:\\EPODATA\\SEA\\concepts\\thermal_bridge.concept\n",
      "file name: Thermophotovoltaic.concept\n",
      "this is the total file name: C:\\EPODATA\\SEA\\concepts\\Thermophotovoltaic.concept\n",
      "file name: thermoplastic_vulcanize.concept\n",
      "this is the total file name: C:\\EPODATA\\SEA\\concepts\\thermoplastic_vulcanize.concept\n",
      "file name: thermowelding.concept\n",
      "this is the total file name: C:\\EPODATA\\SEA\\concepts\\thermowelding.concept\n",
      "file name: thickness.concept\n",
      "this is the total file name: C:\\EPODATA\\SEA\\concepts\\thickness.concept\n",
      "file name: thief.concept\n",
      "this is the total file name: C:\\EPODATA\\SEA\\concepts\\thief.concept\n",
      "file name: thinfilm.concept\n",
      "this is the total file name: C:\\EPODATA\\SEA\\concepts\\thinfilm.concept\n",
      "file name: through.concept\n",
      "this is the total file name: C:\\EPODATA\\SEA\\concepts\\through.concept\n",
      "file name: togglelever.concept\n",
      "this is the total file name: C:\\EPODATA\\SEA\\concepts\\togglelever.concept\n",
      "file name: tolerance.concept\n",
      "this is the total file name: C:\\EPODATA\\SEA\\concepts\\tolerance.concept\n",
      "file name: tool.concept\n",
      "this is the total file name: C:\\EPODATA\\SEA\\concepts\\tool.concept\n",
      "file name: toolfree.concept\n",
      "this is the total file name: C:\\EPODATA\\SEA\\concepts\\toolfree.concept\n",
      "file name: tool_free.concept\n",
      "this is the total file name: C:\\EPODATA\\SEA\\concepts\\tool_free.concept\n",
      "file name: tracking.concept\n",
      "this is the total file name: C:\\EPODATA\\SEA\\concepts\\tracking.concept\n",
      "file name: trackingsystem.concept\n",
      "this is the total file name: C:\\EPODATA\\SEA\\concepts\\trackingsystem.concept\n",
      "file name: transparent.concept\n",
      "this is the total file name: C:\\EPODATA\\SEA\\concepts\\transparent.concept\n",
      "file name: transport.concept\n",
      "this is the total file name: C:\\EPODATA\\SEA\\concepts\\transport.concept\n",
      "file name: transportable.concept\n",
      "this is the total file name: C:\\EPODATA\\SEA\\concepts\\transportable.concept\n",
      "file name: TRANSPORTABLE2.concept\n",
      "this is the total file name: C:\\EPODATA\\SEA\\concepts\\TRANSPORTABLE2.concept\n",
      "file name: tripod.concept\n",
      "this is the total file name: C:\\EPODATA\\SEA\\concepts\\tripod.concept\n",
      "file name: truss.concept\n",
      "this is the total file name: C:\\EPODATA\\SEA\\concepts\\truss.concept\n",
      "file name: tsection.concept\n",
      "this is the total file name: C:\\EPODATA\\SEA\\concepts\\tsection.concept\n",
      "file name: tube.concept\n",
      "this is the total file name: C:\\EPODATA\\SEA\\concepts\\tube.concept\n",
      "file name: tubular.concept\n",
      "this is the total file name: C:\\EPODATA\\SEA\\concepts\\tubular.concept\n",
      "file name: umbrella.concept\n",
      "this is the total file name: C:\\EPODATA\\SEA\\concepts\\umbrella.concept\n",
      "file name: uniformity.concept\n",
      "this is the total file name: C:\\EPODATA\\SEA\\concepts\\uniformity.concept\n",
      "file name: unitm2.concept\n",
      "this is the total file name: C:\\EPODATA\\SEA\\concepts\\unitm2.concept\n",
      "file name: units.concept\n",
      "this is the total file name: C:\\EPODATA\\SEA\\concepts\\units.concept\n",
      "file name: unitsnonSI.concept\n",
      "this is the total file name: C:\\EPODATA\\SEA\\concepts\\unitsnonSI.concept\n",
      "file name: unwind.concept\n",
      "this is the total file name: C:\\EPODATA\\SEA\\concepts\\unwind.concept\n",
      "file name: upliftforce.concept\n",
      "this is the total file name: C:\\EPODATA\\SEA\\concepts\\upliftforce.concept\n",
      "file name: upper.concept\n",
      "this is the total file name: C:\\EPODATA\\SEA\\concepts\\upper.concept\n",
      "file name: Ushape.concept\n",
      "this is the total file name: C:\\EPODATA\\SEA\\concepts\\Ushape.concept\n",
      "file name: vacuum.concept\n",
      "this is the total file name: C:\\EPODATA\\SEA\\concepts\\vacuum.concept\n",
      "file name: vanishingpoint.concept\n",
      "this is the total file name: C:\\EPODATA\\SEA\\concepts\\vanishingpoint.concept\n",
      "file name: vehicle.concept\n",
      "this is the total file name: C:\\EPODATA\\SEA\\concepts\\vehicle.concept\n",
      "file name: ventilation.concept\n",
      "this is the total file name: C:\\EPODATA\\SEA\\concepts\\ventilation.concept\n",
      "file name: vertical.concept\n",
      "this is the total file name: C:\\EPODATA\\SEA\\concepts\\vertical.concept\n",
      "file name: wall.concept\n",
      "this is the total file name: C:\\EPODATA\\SEA\\concepts\\wall.concept\n",
      "file name: warehouse.concept\n",
      "this is the total file name: C:\\EPODATA\\SEA\\concepts\\warehouse.concept\n",
      "file name: washer.concept\n",
      "this is the total file name: C:\\EPODATA\\SEA\\concepts\\washer.concept\n",
      "file name: water.concept\n",
      "this is the total file name: C:\\EPODATA\\SEA\\concepts\\water.concept\n",
      "file name: water2.concept\n",
      "this is the total file name: C:\\EPODATA\\SEA\\concepts\\water2.concept\n",
      "file name: waterdrainage.concept\n",
      "this is the total file name: C:\\EPODATA\\SEA\\concepts\\waterdrainage.concept\n",
      "file name: waterproof.concept\n",
      "this is the total file name: C:\\EPODATA\\SEA\\concepts\\waterproof.concept\n",
      "file name: wavelenght.concept\n",
      "this is the total file name: C:\\EPODATA\\SEA\\concepts\\wavelenght.concept\n",
      "file name: weatherconditions.concept\n",
      "this is the total file name: C:\\EPODATA\\SEA\\concepts\\weatherconditions.concept\n",
      "file name: welding.concept\n",
      "this is the total file name: C:\\EPODATA\\SEA\\concepts\\welding.concept\n",
      "file name: west.concept\n",
      "this is the total file name: C:\\EPODATA\\SEA\\concepts\\west.concept\n",
      "file name: wheel.concept\n",
      "this is the total file name: C:\\EPODATA\\SEA\\concepts\\wheel.concept\n",
      "file name: wind.concept\n",
      "this is the total file name: C:\\EPODATA\\SEA\\concepts\\wind.concept\n",
      "file name: winddeflector.concept\n",
      "this is the total file name: C:\\EPODATA\\SEA\\concepts\\winddeflector.concept\n",
      "file name: window.concept\n",
      "this is the total file name: C:\\EPODATA\\SEA\\concepts\\window.concept\n",
      "file name: wireless.concept\n",
      "this is the total file name: C:\\EPODATA\\SEA\\concepts\\wireless.concept\n",
      "file name: wood.concept\n",
      "this is the total file name: C:\\EPODATA\\SEA\\concepts\\wood.concept\n",
      "file name: wromscrew.concept\n",
      "this is the total file name: C:\\EPODATA\\SEA\\concepts\\wromscrew.concept\n",
      "file name: year_seasons.concept\n",
      "this is the total file name: C:\\EPODATA\\SEA\\concepts\\year_seasons.concept\n",
      "file name: young_modulus.concept\n",
      "this is the total file name: C:\\EPODATA\\SEA\\concepts\\young_modulus.concept\n",
      "file name: zahnrad.concept\n",
      "this is the total file name: C:\\EPODATA\\SEA\\concepts\\zahnrad.concept\n"
     ]
    }
   ],
   "source": [
    "### List of all the concepts in a folder:\n",
    "\n",
    "directory =r'C:\\EPODATA\\SEA\\concepts'\n",
    "for filename in os.listdir(directory):\n",
    "    if filename.endswith(\".concept\"):\n",
    "        print(f'file name: {filename}')\n",
    "        print(f'this is the total file name: {os.path.join(directory, filename)}')\n",
    "    else:\n",
    "        print(f'this is not a concept {filename}')"
   ]
  },
  {
   "cell_type": "code",
   "execution_count": 63,
   "metadata": {},
   "outputs": [
    {
     "name": "stdout",
     "output_type": "stream",
     "text": [
      "mysite.html\n",
      "myhtml.html\n",
      "mysite.html\n",
      "mysite.html\n",
      "mysite.html\n"
     ]
    }
   ],
   "source": [
    "path=r'C:\\Users\\JF30443\\pyCODE'\n",
    "for root, dirs, files in os.walk(path):\n",
    "    for name in files:\n",
    "        if name.endswith((\".html\", \".htm\")):\n",
    "            print(name)\n",
    "            \n"
   ]
  },
  {
   "cell_type": "markdown",
   "metadata": {},
   "source": [
    "## Generators"
   ]
  },
  {
   "cell_type": "code",
   "execution_count": 64,
   "metadata": {},
   "outputs": [],
   "source": [
    "def infinite_sequence():\n",
    "    num = 0\n",
    "    while True:\n",
    "        num += 1\n",
    "        yield num"
   ]
  },
  {
   "cell_type": "markdown",
   "metadata": {},
   "source": [
    "This looks like a typical function definition, except for the Python yield statement and the code that follows it. yield indicates where a value is sent back to the caller, but unlike return, you don’t exit the function afterward."
   ]
  },
  {
   "cell_type": "code",
   "execution_count": 65,
   "metadata": {},
   "outputs": [
    {
     "data": {
      "text/plain": [
       "1"
      ]
     },
     "execution_count": 65,
     "metadata": {},
     "output_type": "execute_result"
    }
   ],
   "source": [
    "gen = infinite_sequence()\n",
    "next(gen)"
   ]
  },
  {
   "cell_type": "code",
   "execution_count": 66,
   "metadata": {},
   "outputs": [
    {
     "data": {
      "text/plain": [
       "2"
      ]
     },
     "execution_count": 66,
     "metadata": {},
     "output_type": "execute_result"
    }
   ],
   "source": [
    "next(gen)"
   ]
  },
  {
   "cell_type": "code",
   "execution_count": 67,
   "metadata": {},
   "outputs": [
    {
     "data": {
      "text/plain": [
       "3"
      ]
     },
     "execution_count": 67,
     "metadata": {},
     "output_type": "execute_result"
    }
   ],
   "source": [
    "next(gen)"
   ]
  },
  {
   "cell_type": "markdown",
   "metadata": {},
   "source": [
    "# Some \"kind of\" real examples\n",
    "## 1. Create a claim table"
   ]
  },
  {
   "cell_type": "code",
   "execution_count": 68,
   "metadata": {},
   "outputs": [
    {
     "name": "stdout",
     "output_type": "stream",
     "text": [
      "C:\\Users\\Public\\NoBackup\\UserData\\TriQuote\\claims.txt\n",
      "1. Apparatus for solar tracking, the apparatus comprising:a mount for a payload; and\n",
      "at least three legs for supporting the mount above a foundation;\n",
      "wherein at least two of the legs are linearly actuable such that, in use, the mount is capable of pivoting about at least two axes relative to the foundation.\n",
      "\n",
      "2. An apparatus according to <b><font color=\"green\">Claim 1</font></b>, wherein, in use, the ends of the legs distal to the mount are fixed (optionally to the foundation) such that the distal ends cannot translate relative to the foundation.\n",
      "\n",
      "3. An apparatus according to <b><font color=\"green\">Claim 2</font></b>, wherein, in use, the ends of the legs distal to the mount are fixed (optionally to the foundation) such that the distal ends can pivot relative to the foundation.\n",
      "\n",
      "4. An apparatus according to any preceding <b><font color=\"green\">claim</font></b>, wherein each leg comprises at least one pivoting joint.\n",
      "\n",
      "5. An apparatus according to <b><font color=\"green\">Claim 4</font></b>, wherein at least one of the joints comprises a hinge joint; preferably wherein one of the joints comprises a hinge joint.\n",
      "\n",
      "6. An apparatus according to <b><font color=\"green\">Claim 5</font></b>, wherein at least some of the joints are ball joints; preferably wherein all joints other than the joint comprising a hinge joint are ball joints.\n",
      "\n",
      "7. An apparatus according to any of <b><font color=\"green\">Claims 4 to 6</font></b>, wherein the legs are connected to the mount via pivoting joints.\n",
      "\n",
      "8. An apparatus according to any preceding <b><font color=\"green\">claim</font></b>, wherein at least some of the legs are connected to the mount via ball joints.\n",
      "\n",
      "9. An apparatus according to any preceding <b><font color=\"green\">claim</font></b>, wherein the at least three legs consist of three legs, wherein two of the legs are linearly actuable.\n",
      "\n",
      "10. An apparatus according to <b><font color=\"green\">Claim 9</font></b>, wherein one of the legs is of fixed length.\n",
      "\n",
      "11. An apparatus according to <b><font color=\"green\">Claim 9 or 10</font></b>, wherein, in use, the ends of two of the legs that are distal to the mount are connected to the foundation via ball joints; and the distal end of one leg is connected to the foundation via a hinge joint.\n",
      "\n",
      "12. An apparatus according to <b><font color=\"green\">Claim 11</font></b>, wherein the leg connected via a hinge joint is a linearly actuable leg.\n",
      "\n",
      "13. An apparatus according to <b><font color=\"green\">Claim 12</font></b>, wherein the hinge joint is arranged such that a line defined by the hinging axis of the hinge joint is perpendicular to a line defined by the direction, from the hinge joint, of the ball joint connecting the leg of fixed length to the foundation.\n",
      "\n",
      "14. An apparatus according to any of <b><font color=\"green\">Claims 10 to 13</font></b>, wherein the linearly actuable legs are longer or shorter than the leg of fixed length, such that the mount is supported at an oblique angle relative to the foundation.\n",
      "\n",
      "15. An apparatus according to any of <b><font color=\"green\">Claims 1 to 10</font></b>, wherein one of the legs comprises a plurality of hinge joints.\n",
      "\n",
      "16. An apparatus according to <b><font color=\"green\">Claim 15</font></b>, wherein one of the legs comprises two hinge joints; preferably wherein pivoting of a first hinge joint causes the mount to pitch; and pivoting of a second hinge joint causes the mount to roll.\n",
      "\n",
      "17. An apparatus according to <b><font color=\"green\">Claim 16</font></b>, wherein the two hinge joints comprise a first rotatable shaft and a second rotatable shaft respectively; wherein the first and second shafts are arranged such that the first shaft is perpendicular to the second shaft; preferably wherein the first and second shaft are connected; more preferably wherein the first shaft passes via at least one rotary bearing connected to the mount, and the second shaft passes via at least one rotary bearing connected to the foundation.\n",
      "\n",
      "18. An apparatus according to any of <b><font color=\"green\">Claims 15 to 17</font></b>, wherein the linearly actuable legs are connected both to the mount and to the foundation via ball joints.\n",
      "\n",
      "19. An apparatus according to any preceding <b><font color=\"green\">claim</font></b>, wherein the linearly actuable legs are telescoping.\n",
      "\n",
      "20. An apparatus according to <b><font color=\"green\">Claim 19</font></b>, wherein the linearly actuable legs comprise telescopic cylinders.\n",
      "\n",
      "21. An apparatus according to any preceding <b><font color=\"green\">claim</font></b>, further comprising at least one actuator for actuating the linearly actuable legs.\n",
      "\n",
      "22. An apparatus according to <b><font color=\"green\">Claim 21</font></b>, further comprising a controller for controlling the at least one actuator thereby to track the sun.\n",
      "\n",
      "23. An apparatus according to <b><font color=\"green\">Claim 22</font></b>, wherein the controller comprises a clock and a memory storing information relating to the position of the sun in relation to the time of day (and optionally the time of year).\n",
      "\n",
      "24. An apparatus according to <b><font color=\"green\">Claim 22</font></b>, wherein the controller comprises a clock and a computer program in memory for predicting the position of the sun in relation to the time of day (and optionally the time of year).\n",
      "\n",
      "25. An apparatus according to any preceding <b><font color=\"green\">claim</font></b>, further comprising a foundation.\n",
      "\n",
      "26. An apparatus according to <b><font color=\"green\">Claim 25</font></b>, wherein the foundation is configured to be fixed to the ground via fixings being driven into the ground, preferably wherein said fixings are stakes.\n",
      "\n",
      "27. An apparatus according to <b><font color=\"green\">Claim 25 or 26</font></b>, wherein the foundation comprises a frame formed of members.\n",
      "\n",
      "28. An apparatus according to any preceding <b><font color=\"green\">claim</font></b>, wherein the legs are connected to the mount away from the centre of the mount; preferably wherein the legs are connected to the mount proximate the edges of the mount; more preferably wherein the legs are connected to the mount at the edges of the mount.\n",
      "\n",
      "29. An apparatus according to <b><font color=\"green\">Claim 28</font></b>, wherein the legs are arranged in a triangular formation on the mount.\n",
      "\n",
      "30. An apparatus according to <b><font color=\"green\">Claim 29</font></b>, wherein the mount is generally triangular in shape, and the legs are connected to the mount proximate the vertices of the mount.\n",
      "\n",
      "31. An apparatus according to any preceding <b><font color=\"green\">claim</font></b>, wherein all of the legs are weight-bearing.\n",
      "\n",
      "32. An apparatus according to any preceding <b><font color=\"green\">claim</font></b>, wherein the legs are spread around the mount thereby to spread the load of the mount; optionally such that the apparatus does not include a support under the centre of the mount.\n",
      "\n",
      "33. An apparatus according to any preceding <b><font color=\"green\">claim</font></b>, wherein at least one leg extends beyond the footprint of the mount.\n",
      "\n",
      "34. An apparatus according to any preceding <b><font color=\"green\">claim</font></b>, wherein the mount is supported at an oblique angle relative to the foundation.\n",
      "\n",
      "35. An apparatus according to any preceding <b><font color=\"green\">claim</font></b>, wherein, relative to the foundation, the mount is capable of pivoting about one of the legs.\n",
      "\n",
      "36. An apparatus according to any preceding <b><font color=\"green\">claim</font></b>, wherein, relative to the foundation, the mount is capable of pivoting about two axes.\n",
      "\n",
      "37. An apparatus according to <b><font color=\"green\">Claim 36</font></b>, wherein, relative to the foundation, the mount is capable of pitching thereby to track the elevation of the sun, and rolling thereby to track the azimuth of the sun.\n",
      "\n",
      "38. An apparatus according to any preceding <b><font color=\"green\">claim</font></b>, wherein the apparatus is formed of a plurality of members which are fixed together.\n",
      "\n",
      "39. A system for solar tracking, comprising the apparatus of any preceding <b><font color=\"green\">claim</font></b>; and a solar panel supported as a payload on the mount.\n",
      "\n",
      "40. An installation formed of a plurality of systems according to <b><font color=\"green\">Claim 39</font></b>.\n",
      "\n",
      "41. A method of solar tracking, comprising:supporting a mount for a payload above a foundation using at least three legs, wherein at least two of the legs are linearly actuable;\n",
      "pivoting the mount about a first axis relative to the foundation thereby to track the elevation of the sun; and\n",
      "pivoting the mount about a second axis relative to the foundation thereby to track the azimuth of the sun.\n",
      "\n",
      "42. A dual axis solar tracker, comprising: a mount for a payload, and three legs for supporting the mount above a foundation.\n",
      "\n",
      "\n"
     ]
    }
   ],
   "source": [
    "# after running ..triquote on your application you get claims.txt in:\n",
    "path = r'C:\\Users\\Public\\NoBackup\\UserData\\TriQuote\\claims.txt'\n",
    "print(path)\n",
    "with open(path,'r') as f:\n",
    "    rawclaims=f.read()\n",
    "\n",
    "print(rawclaims)"
   ]
  },
  {
   "cell_type": "markdown",
   "metadata": {},
   "source": [
    "### Parsing the claims"
   ]
  },
  {
   "cell_type": "code",
   "execution_count": 69,
   "metadata": {},
   "outputs": [
    {
     "name": "stdout",
     "output_type": "stream",
     "text": [
      "C:\\Users\\JF30443\\pyCODE\\P5_Python_course\\claimsset.txt\n",
      "What is claimed is: 1. 1. A photovoltaic device having a substrate configuration, comprising:\n",
      "a substrate,\n",
      "said substrate being transparent or opaque,\n",
      "a metal electrode layer,\n",
      "a transparent conductor layer,\n",
      "an absorber layer,\n",
      "said absorber layer comprises a Group II-VI semiconductor compound,\n",
      "a window layer, and\n",
      "an interface layer, wherein\n",
      "the interface layer is disposed between the metal electrode layer and the absorber layer such that an ohmic contact is created between the metal electrode layer and the absorber layer.\n",
      "2. 2. A photovoltaic device according claim 1, wherein:\n",
      "said absorber layer comprises a CdTe semiconductor.\n",
      "3. 3. A photovoltaic device according claim 2, wherein:\n",
      "said window layer comprises a CdS semiconductor.\n",
      "4. 4. A photovoltaic device as claimed in claim 1, wherein:\n",
      "the interface layer comprises a material selected from the group consisting of nanoparticles, nanoparticles that are sintered and a thin film.\n",
      "5. 5. A photovoltaic device as claimed in claim 4, wherein:\n",
      "the nanoparticles, nanoparticles that are sintered and a thin film each independently comprise a material selected from the group consisting of Group II-IV compounds, Group IV-VI compounds, Group IV compounds, Group III-V compounds and Group I-III-VI compounds.\n",
      "6. 6. A photovoltaic device as claimed in claim 5, wherein:\n",
      "the nanoparticles, nanoparticles that are sintered and a thin film independently comprise a material selected from the group consisting of CuxTe where 1â‰¦xâ‰¦2, ZnTe, p doped ZnTe, CdxTey where xâ‰ y, Cu doped CdTe, CdZnTe, Sb2Te3, Bi2Te3 and Te metal.\n",
      "7. 7. A photovoltaic device as claimed in claim 6, wherein:\n",
      "the nanoparticles, nanoparticles that are sintered and a thin film independently comprise a material selected from the group consisting of CdxTey where x>y and Cu doped ZnTe.\n",
      "8. 8. A photovoltaic device as claimed in claim 1, wherein:\n",
      "the interface layer comprises a plurality of layers.\n",
      "9. 9. A photovoltaic device as claimed in claim 1, wherein:\n",
      "the interface layer comprises a plurality of layers,\n",
      "said plurality of layers comprising a first layer comprising p-doped ZnTe nanoparticles,\n",
      "and a second layer comprising ZnTe nanoparticles.\n",
      "10. 10. A photovoltaic device as claimed in claim 9, wherein:\n",
      "the interface layer further comprises a third layer comprising Te metal nanoparticles disposed between the second layer comprising ZnTe nanoparticles and the absorber layer.\n",
      "11. 11. A photovoltaic device as claimed in claim 1, wherein:\n",
      "said interface layer comprises a plurality of layers,\n",
      "said plurality of layers comprises a first layer comprising CuxTe where 1â‰¦xâ‰¦2 nanoparticles,\n",
      "and a second layer comprising ZnTe nanoparticles.\n",
      "12. 12. A photovoltaic device as claimed in claim 11, wherein:\n",
      "the interface layer further comprises a third layer disposed between the second layer and the absorber layer,\n",
      "said third layer comprising a material selected from the group consisting of Te metal nanoparticles, CdxTey where xâ‰ y nanoparticles and CdZnTe nanoparticles.\n",
      "13. 13. A photovoltaic device as claimed in claim 1, wherein:\n",
      "the interface layer comprises at least three layers, wherein\n",
      "a first interface layer comprises Cd1âˆ’xZnxTe nanoparticles where x=0,\n",
      "a second interface layer comprises Cd1âˆ’xZnxTe nanoparticles that are sintered where xâ‰ 0, and\n",
      "a third interface layer in between the first and second interface layer said layer comprising Cd1âˆ’xZnxTe nanoparticles that are sintered where 0â‰¦xâ‰¦1.\n",
      "14. 14. A photovoltaic device as claimed in claim 1, wherein:\n",
      "the interface layer comprises a plurality of layers,\n",
      "said plurality of layers comprises a first layer comprising p-doped ZnTe nanoparticles that are sintered,\n",
      "and a second layer comprising ZnTe nanoparticles that are sintered.\n",
      "15. 15. A photovoltaic device as claimed in claim 14, wherein:\n",
      "the interface layer further comprises a third layer comprising Te metal nanoparticles that are sintered disposed between the second layer comprising ZnTe nanoparticles that are sintered and the absorber layer.\n",
      "16. 16. A photovoltaic device as claimed in claim 1, wherein:\n",
      "said interface layer comprises a plurality of layers,\n",
      "said plurality of layers comprises a first layer comprising a CuxTe where 1â‰¦xâ‰¦2 nanoparticles that are sintered, and\n",
      "a second layer comprising ZnTe nanoparticles that are sintered.\n",
      "17. 17. A photovoltaic device as claimed in claim 16, wherein:\n",
      "the interface layer further comprises a third layer disposed between the second layer and the absorber layer,\n",
      "said third layer comprises a material selected from the group consisting of Te metal nanoparticles that are sintered, CdxTey where xâ‰ y nanoparticles that are sintered and CdZnTe nanoparticles that are sintered.\n",
      "18. 18. A photovoltaic device as claimed in claim 1, wherein:\n",
      "the interface layer comprises at least three layers, wherein\n",
      "a first interface layer comprises Cd1âˆ’xZnxTe nanoparticles that are sintered where x=0,\n",
      "a second interface layer comprises Cd1âˆ’xZnxTe nanoparticles that are sintered where xâ‰ 0, and\n",
      "a third interface layer in between the first and second interface layer said layer comprising Cd1âˆ’xZnxTe nanoparticles that are sintered where 0â‰¦xâ‰¦1.\n",
      "19. 19. A photovoltaic device as claimed in claim 1, wherein:\n",
      "the interface layer comprises a plurality of layers,\n",
      "said plurality of layers comprises a first layer comprising a p-doped ZnTe thin film, and\n",
      "a second layer comprising ZnTe thin film.\n",
      "20. 20. A photovoltaic device as claimed in claim 19, wherein:\n",
      "the interface layer further comprises a third layer comprising a Te metal thin film disposed between the second layer comprising a ZnTe thin film and the absorber layer.\n",
      "21. 21. A photovoltaic device as claimed in claim 1, wherein:\n",
      "said interface layer comprises a plurality of layers,\n",
      "said plurality of layers comprises a first layer comprising a CuxTe where 1â‰¦xâ‰¦2 thin film, and\n",
      "a second layer comprising a ZnTe thin film.\n",
      "22. 22. A photovoltaic device as claimed in claim 21, wherein:\n",
      "the interface layer further comprises a third layer disposed between the second layer and the absorber layer,\n",
      "said third layer comprises a material selected from the group consisting of a Te metal thin film, a CdxTey where xâ‰ y thin film, and a CdZnTe thin film.\n",
      "23. 23. A photovoltaic device as claimed in claim 1, wherein:\n",
      "the interface layer comprises at least three layers, wherein\n",
      "a first interface layer comprises a Cd1âˆ’xZnxTe thin film where x=0,\n",
      "a second interface layer comprises a Cd1âˆ’xZnxTe thin film where xâ‰ 0, and\n",
      "a third interface layer in between the first and second interface layer,\n",
      "said layer comprising a Cd1âˆ’xZnxTe thin film where 0â‰¦xâ‰¦1.\n",
      "24. 24. A photovoltaic device having a superstrate configuration, comprising:\n",
      "a substrate,\n",
      "said substrate being transparent,\n",
      "a metal electrode layer,\n",
      "a transparent conductor layer,\n",
      "an absorber layer,\n",
      "said absorber layer comprising a Group II-VI semiconductor compound,\n",
      "a window layer, and\n",
      "an interface layer comprising nanoparticles or nanoparticles that are sintered, and\n",
      "the interface layer is disposed between the metal electrode layer and the absorber layer such that an ohmic contact is created between the metal electrode layer and the absorber layer.\n",
      "25. 25. A photovoltaic device as claimed in claim 24, wherein:\n",
      "the nanoparticles or nanoparticles that are sintered independently comprise a material selected from the group consisting of CuxTe where 1â‰¦xâ‰¦2, ZnTe, p doped ZnTe, CdxTey where xâ‰ y, Cu doped CdTe, CdZnTe, Sb2Te3, Bi2Te3 and Te metal.\n",
      "\n",
      "\n",
      "\n"
     ]
    }
   ],
   "source": [
    "# read some less parsed set of claims\n",
    "path  = r'C:\\Users\\JF30443\\pyCODE\\P5_Python_course\\claimsset.txt'\n",
    "print(path)\n",
    "with open(path,'r') as f:\n",
    "    rawclaims=f.read()\n",
    "\n",
    "# 0:10 just for showing purposes\n",
    "print(rawclaims)"
   ]
  },
  {
   "cell_type": "code",
   "execution_count": 70,
   "metadata": {},
   "outputs": [
    {
     "name": "stdout",
     "output_type": "stream",
     "text": [
      " 1. 1. A photovoltaic device having a substrate configuratio\n"
     ]
    }
   ],
   "source": [
    "# a) starts with 'what is claimed is\n",
    "rawclaims = rawclaims.replace('What is claimed is:','')\n",
    "print(rawclaims[0:60])"
   ]
  },
  {
   "cell_type": "code",
   "execution_count": 71,
   "metadata": {},
   "outputs": [
    {
     "name": "stdout",
     "output_type": "stream",
     "text": [
      "1. 1. A photovoltaic device having a substrate configuration, comprising:\n",
      "a substrate,\n",
      "said substrate being transparent or opaque,\n",
      "a metal electrode layer,\n",
      "a transparent conductor layer,\n",
      "an absorber layer,\n",
      "said absorber layer comprises a Group II-VI semiconductor compound,\n",
      "a window layer, and\n",
      "an interface layer, wherein\n",
      "the interface layer is disposed between the metal electrode layer and the absorber layer such that an ohmic contact is created between the metal electrode layer and the absorber layer.\n",
      "2. 2. A photovoltaic device according claim 1, wherein:\n",
      "said absorber layer comprises a CdTe semiconductor.\n",
      "3. 3. A photovoltaic device according claim 2, wherein:\n",
      "said window layer comprises a CdS semiconductor.\n",
      "4. 4. A photovoltaic device as claimed in claim 1, wherein:\n",
      "the interface layer comprises a material selected from the group consisting of nanoparticles, nanoparticles that are sintered and a thin film.\n",
      "5. 5. A photovoltaic device as claimed in claim 4, wherein:\n",
      "the nanoparticles, nanoparticles that are sintered and a thin film each independently comprise a material selected from the group consisting of Group II-IV compounds, Group IV-VI compounds, Group IV compounds, Group III-V compounds and Group I-III-VI compounds.\n",
      "6. 6. A photovoltaic device as claimed in claim 5, wherein:\n",
      "the nanoparticles, nanoparticles that are sintered and a thin film independently comprise a material selected from the group consisting of CuxTe where 1â‰¦xâ‰¦2, ZnTe, p doped ZnTe, CdxTey where xâ‰ y, Cu doped CdTe, CdZnTe, Sb2Te3, Bi2Te3 and Te metal.\n",
      "7. 7. A photovoltaic device as claimed in claim 6, wherein:\n",
      "the nanoparticles, nanoparticles that are sintered and a thin film independently comprise a material selected from the group consisting of CdxTey where x>y and Cu doped ZnTe.\n",
      "8. 8. A photovoltaic device as claimed in claim 1, wherein:\n",
      "the interface layer comprises a plurality of layers.\n",
      "9. 9. A photovoltaic device as claimed in claim 1, wherein:\n",
      "the interface layer comprises a plurality of layers,\n",
      "said plurality of layers comprising a first layer comprising p-doped ZnTe nanoparticles,\n",
      "and a second layer comprising ZnTe nanoparticles.\n",
      "10. 10. A photovoltaic device as claimed in claim 9, wherein:\n",
      "the interface layer further comprises a third layer comprising Te metal nanoparticles disposed between the second layer comprising ZnTe nanoparticles and the absorber layer.\n",
      "11. 11. A photovoltaic device as claimed in claim 1, wherein:\n",
      "said interface layer comprises a plurality of layers,\n",
      "said plurality of layers comprises a first layer comprising CuxTe where 1â‰¦xâ‰¦2 nanoparticles,\n",
      "and a second layer comprising ZnTe nanoparticles.\n",
      "12. 12. A photovoltaic device as claimed in claim 11, wherein:\n",
      "the interface layer further comprises a third layer disposed between the second layer and the absorber layer,\n",
      "said third layer comprising a material selected from the group consisting of Te metal nanoparticles, CdxTey where xâ‰ y nanoparticles and CdZnTe nanoparticles.\n",
      "13. 13. A photovoltaic device as claimed in claim 1, wherein:\n",
      "the interface layer comprises at least three layers, wherein\n",
      "a first interface layer comprises Cd1âˆ’xZnxTe nanoparticles where x=0,\n",
      "a second interface layer comprises Cd1âˆ’xZnxTe nanoparticles that are sintered where xâ‰ 0, and\n",
      "a third interface layer in between the first and second interface layer said layer comprising Cd1âˆ’xZnxTe nanoparticles that are sintered where 0â‰¦xâ‰¦1.\n",
      "14. 14. A photovoltaic device as claimed in claim 1, wherein:\n",
      "the interface layer comprises a plurality of layers,\n",
      "said plurality of layers comprises a first layer comprising p-doped ZnTe nanoparticles that are sintered,\n",
      "and a second layer comprising ZnTe nanoparticles that are sintered.\n",
      "15. 15. A photovoltaic device as claimed in claim 14, wherein:\n",
      "the interface layer further comprises a third layer comprising Te metal nanoparticles that are sintered disposed between the second layer comprising ZnTe nanoparticles that are sintered and the absorber layer.\n",
      "16. 16. A photovoltaic device as claimed in claim 1, wherein:\n",
      "said interface layer comprises a plurality of layers,\n",
      "said plurality of layers comprises a first layer comprising a CuxTe where 1â‰¦xâ‰¦2 nanoparticles that are sintered, and\n",
      "a second layer comprising ZnTe nanoparticles that are sintered.\n",
      "17. 17. A photovoltaic device as claimed in claim 16, wherein:\n",
      "the interface layer further comprises a third layer disposed between the second layer and the absorber layer,\n",
      "said third layer comprises a material selected from the group consisting of Te metal nanoparticles that are sintered, CdxTey where xâ‰ y nanoparticles that are sintered and CdZnTe nanoparticles that are sintered.\n",
      "18. 18. A photovoltaic device as claimed in claim 1, wherein:\n",
      "the interface layer comprises at least three layers, wherein\n",
      "a first interface layer comprises Cd1âˆ’xZnxTe nanoparticles that are sintered where x=0,\n",
      "a second interface layer comprises Cd1âˆ’xZnxTe nanoparticles that are sintered where xâ‰ 0, and\n",
      "a third interface layer in between the first and second interface layer said layer comprising Cd1âˆ’xZnxTe nanoparticles that are sintered where 0â‰¦xâ‰¦1.\n",
      "19. 19. A photovoltaic device as claimed in claim 1, wherein:\n",
      "the interface layer comprises a plurality of layers,\n",
      "said plurality of layers comprises a first layer comprising a p-doped ZnTe thin film, and\n",
      "a second layer comprising ZnTe thin film.\n",
      "20. 20. A photovoltaic device as claimed in claim 19, wherein:\n",
      "the interface layer further comprises a third layer comprising a Te metal thin film disposed between the second layer comprising a ZnTe thin film and the absorber layer.\n",
      "21. 21. A photovoltaic device as claimed in claim 1, wherein:\n",
      "said interface layer comprises a plurality of layers,\n",
      "said plurality of layers comprises a first layer comprising a CuxTe where 1â‰¦xâ‰¦2 thin film, and\n",
      "a second layer comprising a ZnTe thin film.\n",
      "22. 22. A photovoltaic device as claimed in claim 21, wherein:\n",
      "the interface layer further comprises a third layer disposed between the second layer and the absorber layer,\n",
      "said third layer comprises a material selected from the group consisting of a Te metal thin film, a CdxTey where xâ‰ y thin film, and a CdZnTe thin film.\n",
      "23. 23. A photovoltaic device as claimed in claim 1, wherein:\n",
      "the interface layer comprises at least three layers, wherein\n",
      "a first interface layer comprises a Cd1âˆ’xZnxTe thin film where x=0,\n",
      "a second interface layer comprises a Cd1âˆ’xZnxTe thin film where xâ‰ 0, and\n",
      "a third interface layer in between the first and second interface layer,\n",
      "said layer comprising a Cd1âˆ’xZnxTe thin film where 0â‰¦xâ‰¦1.\n",
      "24. 24. A photovoltaic device having a superstrate configuration, comprising:\n",
      "a substrate,\n",
      "said substrate being transparent,\n",
      "a metal electrode layer,\n",
      "a transparent conductor layer,\n",
      "an absorber layer,\n",
      "said absorber layer comprising a Group II-VI semiconductor compound,\n",
      "a window layer, and\n",
      "an interface layer comprising nanoparticles or nanoparticles that are sintered, and\n",
      "the interface layer is disposed between the metal electrode layer and the absorber layer such that an ohmic contact is created between the metal electrode layer and the absorber layer.\n",
      "25. 25. A photovoltaic device as claimed in claim 24, wherein:\n",
      "the nanoparticles or nanoparticles that are sintered independently comprise a material selected from the group consisting of CuxTe where 1â‰¦xâ‰¦2, ZnTe, p doped ZnTe, CdxTey where xâ‰ y, Cu doped CdTe, CdZnTe, Sb2Te3, Bi2Te3 and Te metal.\n"
     ]
    }
   ],
   "source": [
    "# b) strip the string\n",
    "rawclaims = rawclaims.strip()\n",
    "print(rawclaims)"
   ]
  },
  {
   "cell_type": "code",
   "execution_count": 72,
   "metadata": {},
   "outputs": [
    {
     "name": "stdout",
     "output_type": "stream",
     "text": [
      "I have made 25 substitutions\n"
     ]
    }
   ],
   "source": [
    "# c) it looks like they start by 1. 1.\n",
    "# tricky thing. what about 1.5 mm???\n",
    "# this is a basic approach\n",
    "counter=0\n",
    "for nr in range(1,100):\n",
    "    string= str(nr) + '. ' + str(nr) + '. '\n",
    "    if string in rawclaims:\n",
    "        counter += 1\n",
    "        rawclaims = rawclaims.replace(string,'<newclaim>')\n",
    "print(f'I have made {counter} substitutions')"
   ]
  },
  {
   "cell_type": "code",
   "execution_count": null,
   "metadata": {},
   "outputs": [],
   "source": []
  },
  {
   "cell_type": "code",
   "execution_count": 73,
   "metadata": {},
   "outputs": [
    {
     "name": "stdout",
     "output_type": "stream",
     "text": [
      "<newclaim>A photovoltaic device having a substrate configuration, comprising:<feature>a substrate,<feature>said substrate being transparent or opaque,<feature>a metal electrode layer,<feature>a transparent conductor layer,<feature>an absorber layer,<feature>said absorber layer comprises a Group II-VI semiconductor compound,<feature>a window layer, and<feature>an interface layer, wherein<feature>the interface layer is disposed between the metal electrode layer and the absorber layer such that an \n"
     ]
    }
   ],
   "source": [
    "# break lines might be a great indicator of feature\n",
    "rawclaims= rawclaims.replace('\\n', '<feature>').replace('\\r', '<feature>')\n",
    "print(rawclaims[0:500])"
   ]
  },
  {
   "cell_type": "code",
   "execution_count": 74,
   "metadata": {},
   "outputs": [
    {
     "name": "stdout",
     "output_type": "stream",
     "text": [
      "<newclaim>A photovoltaic device having a substrate configuration, comprising:<feature>a substrate,<feature>said substrate being transparent or opaque,<feature>a metal electrode layer,<feature>a transparent conductor layer,<feature>an absorber layer,<feature>said absorber layer comprises a Group II-VI semiconductor compound,<feature>a window layer, and<feature>an interface layer, wherein<feature>the interface layer is disposed between the metal electrode layer and the absorber layer such that an \n"
     ]
    }
   ],
   "source": [
    "print(rawclaims[0:500])"
   ]
  },
  {
   "cell_type": "code",
   "execution_count": 75,
   "metadata": {},
   "outputs": [
    {
     "name": "stdout",
     "output_type": "stream",
     "text": [
      "['', 'A photovoltaic device having a substrate configuration, comprising:<feature>a substrate,<feature>said substrate being transparent or opaque,<feature>a metal electrode layer,<feature>a transparent conductor layer,<feature>an absorber layer,<feature>said absorber layer comprises a Group II-VI semiconductor compound,<feature>a window layer, and<feature>an interface layer, wherein<feature>the interface layer is disposed between the metal electrode layer and the absorber layer such that an ohmic contact is created between the metal electrode layer and the absorber layer.<feature>', 'A photovoltaic device according claim 1, wherein:<feature>said absorber layer comprises a CdTe semiconductor.<feature>']\n"
     ]
    }
   ],
   "source": [
    "list_of_claims = rawclaims.split('<newclaim>')\n",
    "print(list_of_claims[0:3])"
   ]
  },
  {
   "cell_type": "code",
   "execution_count": 76,
   "metadata": {},
   "outputs": [],
   "source": [
    "# shorter:\n",
    "list_of_claims = [claim for claim in list_of_claims if claim !='']"
   ]
  },
  {
   "cell_type": "code",
   "execution_count": 77,
   "metadata": {},
   "outputs": [],
   "source": [
    "#list comprehension\n",
    "list_of_claims = [claim.replace('\\n', '<feature>').replace('\\r', '<feature>') for claim in rawclaims.split('<newclaim>') if claim !='']"
   ]
  },
  {
   "cell_type": "code",
   "execution_count": 78,
   "metadata": {
    "scrolled": true
   },
   "outputs": [
    {
     "name": "stdout",
     "output_type": "stream",
     "text": [
      "['A photovoltaic device having a substrate configuration, comprising:<feature>a substrate,<feature>said substrate being transparent or opaque,<feature>a metal electrode layer,<feature>a transparent conductor layer,<feature>an absorber layer,<feature>said absorber layer comprises a Group II-VI semiconductor compound,<feature>a window layer, and<feature>an interface layer, wherein<feature>the interface layer is disposed between the metal electrode layer and the absorber layer such that an ohmic contact is created between the metal electrode layer and the absorber layer.<feature>', 'A photovoltaic device according claim 1, wherein:<feature>said absorber layer comprises a CdTe semiconductor.<feature>', 'A photovoltaic device according claim 2, wherein:<feature>said window layer comprises a CdS semiconductor.<feature>']\n"
     ]
    }
   ],
   "source": [
    "print(list_of_claims[0:3])"
   ]
  },
  {
   "cell_type": "code",
   "execution_count": 79,
   "metadata": {},
   "outputs": [
    {
     "name": "stdout",
     "output_type": "stream",
     "text": [
      "['A photovoltaic device having a substrate configuration, comprising:<feature>a substrate,<feature>said substrate being transparent or opaque,<feature>a metal electrode layer,<feature>a transparent conductor layer,<feature>an absorber layer,<feature>said absorber layer comprises a Group II-VI semiconductor compound,<feature>a window layer, and<feature>an interface layer, wherein<feature>the interface layer is disposed between the metal electrode layer and the absorber layer such that an ohmic contact is created between the metal electrode layer and the absorber layer.<feature>', 'A photovoltaic device according claim 1, wherein:<feature>said absorber layer comprises a CdTe semiconductor.<feature>', 'A photovoltaic device according claim 2, wherein:<feature>said window layer comprises a CdS semiconductor.<feature>']\n"
     ]
    }
   ],
   "source": [
    "print(list_of_claims[0:3])"
   ]
  },
  {
   "cell_type": "code",
   "execution_count": 80,
   "metadata": {},
   "outputs": [],
   "source": [
    "independent_list=[]\n",
    "for i,claim in enumerate(list_of_claims):\n",
    "    if 'claim' in claim:\n",
    "        independent_list.append('dependent')\n",
    "    else:\n",
    "        independent_list.append('independent')\n",
    "\n",
    "\n",
    "        "
   ]
  },
  {
   "cell_type": "code",
   "execution_count": 81,
   "metadata": {},
   "outputs": [
    {
     "name": "stdout",
     "output_type": "stream",
     "text": [
      "['independent', 'dependent', 'dependent', 'dependent', 'dependent', 'dependent', 'dependent', 'dependent', 'dependent', 'dependent', 'dependent', 'dependent', 'dependent', 'dependent', 'dependent', 'dependent', 'dependent', 'dependent', 'dependent', 'dependent', 'dependent', 'dependent', 'dependent', 'independent', 'dependent']\n",
      "25\n",
      "25\n"
     ]
    }
   ],
   "source": [
    "print(independent_list)\n",
    "print(len(independent_list))\n",
    "print(len(list_of_claims))"
   ]
  },
  {
   "cell_type": "markdown",
   "metadata": {},
   "source": [
    "### Please give a big round of applause to PANDAS"
   ]
  },
  {
   "cell_type": "code",
   "execution_count": 82,
   "metadata": {},
   "outputs": [],
   "source": [
    "import pandas as pd"
   ]
  },
  {
   "cell_type": "code",
   "execution_count": 83,
   "metadata": {},
   "outputs": [
    {
     "data": {
      "text/html": [
       "<div>\n",
       "<style scoped>\n",
       "    .dataframe tbody tr th:only-of-type {\n",
       "        vertical-align: middle;\n",
       "    }\n",
       "\n",
       "    .dataframe tbody tr th {\n",
       "        vertical-align: top;\n",
       "    }\n",
       "\n",
       "    .dataframe thead th {\n",
       "        text-align: right;\n",
       "    }\n",
       "</style>\n",
       "<table border=\"1\" class=\"dataframe\">\n",
       "  <thead>\n",
       "    <tr style=\"text-align: right;\">\n",
       "      <th></th>\n",
       "      <th>claimtext</th>\n",
       "    </tr>\n",
       "  </thead>\n",
       "  <tbody>\n",
       "    <tr>\n",
       "      <td>0</td>\n",
       "      <td>A photovoltaic device having a substrate confi...</td>\n",
       "    </tr>\n",
       "    <tr>\n",
       "      <td>1</td>\n",
       "      <td>A photovoltaic device according claim 1, where...</td>\n",
       "    </tr>\n",
       "    <tr>\n",
       "      <td>2</td>\n",
       "      <td>A photovoltaic device according claim 2, where...</td>\n",
       "    </tr>\n",
       "    <tr>\n",
       "      <td>3</td>\n",
       "      <td>A photovoltaic device as claimed in claim 1, w...</td>\n",
       "    </tr>\n",
       "    <tr>\n",
       "      <td>4</td>\n",
       "      <td>A photovoltaic device as claimed in claim 4, w...</td>\n",
       "    </tr>\n",
       "    <tr>\n",
       "      <td>5</td>\n",
       "      <td>A photovoltaic device as claimed in claim 5, w...</td>\n",
       "    </tr>\n",
       "    <tr>\n",
       "      <td>6</td>\n",
       "      <td>A photovoltaic device as claimed in claim 6, w...</td>\n",
       "    </tr>\n",
       "    <tr>\n",
       "      <td>7</td>\n",
       "      <td>A photovoltaic device as claimed in claim 1, w...</td>\n",
       "    </tr>\n",
       "    <tr>\n",
       "      <td>8</td>\n",
       "      <td>A photovoltaic device as claimed in claim 1, w...</td>\n",
       "    </tr>\n",
       "    <tr>\n",
       "      <td>9</td>\n",
       "      <td>A photovoltaic device as claimed in claim 9, w...</td>\n",
       "    </tr>\n",
       "    <tr>\n",
       "      <td>10</td>\n",
       "      <td>A photovoltaic device as claimed in claim 1, w...</td>\n",
       "    </tr>\n",
       "    <tr>\n",
       "      <td>11</td>\n",
       "      <td>A photovoltaic device as claimed in claim 11, ...</td>\n",
       "    </tr>\n",
       "    <tr>\n",
       "      <td>12</td>\n",
       "      <td>A photovoltaic device as claimed in claim 1, w...</td>\n",
       "    </tr>\n",
       "    <tr>\n",
       "      <td>13</td>\n",
       "      <td>A photovoltaic device as claimed in claim 1, w...</td>\n",
       "    </tr>\n",
       "    <tr>\n",
       "      <td>14</td>\n",
       "      <td>A photovoltaic device as claimed in claim 14, ...</td>\n",
       "    </tr>\n",
       "    <tr>\n",
       "      <td>15</td>\n",
       "      <td>A photovoltaic device as claimed in claim 1, w...</td>\n",
       "    </tr>\n",
       "    <tr>\n",
       "      <td>16</td>\n",
       "      <td>A photovoltaic device as claimed in claim 16, ...</td>\n",
       "    </tr>\n",
       "    <tr>\n",
       "      <td>17</td>\n",
       "      <td>A photovoltaic device as claimed in claim 1, w...</td>\n",
       "    </tr>\n",
       "    <tr>\n",
       "      <td>18</td>\n",
       "      <td>A photovoltaic device as claimed in claim 1, w...</td>\n",
       "    </tr>\n",
       "    <tr>\n",
       "      <td>19</td>\n",
       "      <td>A photovoltaic device as claimed in claim 19, ...</td>\n",
       "    </tr>\n",
       "    <tr>\n",
       "      <td>20</td>\n",
       "      <td>A photovoltaic device as claimed in claim 1, w...</td>\n",
       "    </tr>\n",
       "    <tr>\n",
       "      <td>21</td>\n",
       "      <td>A photovoltaic device as claimed in claim 21, ...</td>\n",
       "    </tr>\n",
       "    <tr>\n",
       "      <td>22</td>\n",
       "      <td>A photovoltaic device as claimed in claim 1, w...</td>\n",
       "    </tr>\n",
       "    <tr>\n",
       "      <td>23</td>\n",
       "      <td>A photovoltaic device having a superstrate con...</td>\n",
       "    </tr>\n",
       "    <tr>\n",
       "      <td>24</td>\n",
       "      <td>A photovoltaic device as claimed in claim 24, ...</td>\n",
       "    </tr>\n",
       "  </tbody>\n",
       "</table>\n",
       "</div>"
      ],
      "text/plain": [
       "                                            claimtext\n",
       "0   A photovoltaic device having a substrate confi...\n",
       "1   A photovoltaic device according claim 1, where...\n",
       "2   A photovoltaic device according claim 2, where...\n",
       "3   A photovoltaic device as claimed in claim 1, w...\n",
       "4   A photovoltaic device as claimed in claim 4, w...\n",
       "5   A photovoltaic device as claimed in claim 5, w...\n",
       "6   A photovoltaic device as claimed in claim 6, w...\n",
       "7   A photovoltaic device as claimed in claim 1, w...\n",
       "8   A photovoltaic device as claimed in claim 1, w...\n",
       "9   A photovoltaic device as claimed in claim 9, w...\n",
       "10  A photovoltaic device as claimed in claim 1, w...\n",
       "11  A photovoltaic device as claimed in claim 11, ...\n",
       "12  A photovoltaic device as claimed in claim 1, w...\n",
       "13  A photovoltaic device as claimed in claim 1, w...\n",
       "14  A photovoltaic device as claimed in claim 14, ...\n",
       "15  A photovoltaic device as claimed in claim 1, w...\n",
       "16  A photovoltaic device as claimed in claim 16, ...\n",
       "17  A photovoltaic device as claimed in claim 1, w...\n",
       "18  A photovoltaic device as claimed in claim 1, w...\n",
       "19  A photovoltaic device as claimed in claim 19, ...\n",
       "20  A photovoltaic device as claimed in claim 1, w...\n",
       "21  A photovoltaic device as claimed in claim 21, ...\n",
       "22  A photovoltaic device as claimed in claim 1, w...\n",
       "23  A photovoltaic device having a superstrate con...\n",
       "24  A photovoltaic device as claimed in claim 24, ..."
      ]
     },
     "execution_count": 83,
     "metadata": {},
     "output_type": "execute_result"
    }
   ],
   "source": [
    "claims_df = pd.DataFrame(columns=['claimtext'])\n",
    "claims_df['claimtext'] = list_of_claims\n",
    "claims_df"
   ]
  },
  {
   "cell_type": "code",
   "execution_count": 84,
   "metadata": {},
   "outputs": [
    {
     "data": {
      "text/html": [
       "<div>\n",
       "<style scoped>\n",
       "    .dataframe tbody tr th:only-of-type {\n",
       "        vertical-align: middle;\n",
       "    }\n",
       "\n",
       "    .dataframe tbody tr th {\n",
       "        vertical-align: top;\n",
       "    }\n",
       "\n",
       "    .dataframe thead th {\n",
       "        text-align: right;\n",
       "    }\n",
       "</style>\n",
       "<table border=\"1\" class=\"dataframe\">\n",
       "  <thead>\n",
       "    <tr style=\"text-align: right;\">\n",
       "      <th></th>\n",
       "      <th>claimtext</th>\n",
       "      <th>independent</th>\n",
       "    </tr>\n",
       "  </thead>\n",
       "  <tbody>\n",
       "    <tr>\n",
       "      <td>0</td>\n",
       "      <td>A photovoltaic device having a substrate confi...</td>\n",
       "      <td>True</td>\n",
       "    </tr>\n",
       "    <tr>\n",
       "      <td>1</td>\n",
       "      <td>A photovoltaic device according claim 1, where...</td>\n",
       "      <td>False</td>\n",
       "    </tr>\n",
       "    <tr>\n",
       "      <td>2</td>\n",
       "      <td>A photovoltaic device according claim 2, where...</td>\n",
       "      <td>False</td>\n",
       "    </tr>\n",
       "    <tr>\n",
       "      <td>3</td>\n",
       "      <td>A photovoltaic device as claimed in claim 1, w...</td>\n",
       "      <td>False</td>\n",
       "    </tr>\n",
       "    <tr>\n",
       "      <td>4</td>\n",
       "      <td>A photovoltaic device as claimed in claim 4, w...</td>\n",
       "      <td>False</td>\n",
       "    </tr>\n",
       "    <tr>\n",
       "      <td>5</td>\n",
       "      <td>A photovoltaic device as claimed in claim 5, w...</td>\n",
       "      <td>False</td>\n",
       "    </tr>\n",
       "    <tr>\n",
       "      <td>6</td>\n",
       "      <td>A photovoltaic device as claimed in claim 6, w...</td>\n",
       "      <td>False</td>\n",
       "    </tr>\n",
       "    <tr>\n",
       "      <td>7</td>\n",
       "      <td>A photovoltaic device as claimed in claim 1, w...</td>\n",
       "      <td>False</td>\n",
       "    </tr>\n",
       "    <tr>\n",
       "      <td>8</td>\n",
       "      <td>A photovoltaic device as claimed in claim 1, w...</td>\n",
       "      <td>False</td>\n",
       "    </tr>\n",
       "    <tr>\n",
       "      <td>9</td>\n",
       "      <td>A photovoltaic device as claimed in claim 9, w...</td>\n",
       "      <td>False</td>\n",
       "    </tr>\n",
       "    <tr>\n",
       "      <td>10</td>\n",
       "      <td>A photovoltaic device as claimed in claim 1, w...</td>\n",
       "      <td>False</td>\n",
       "    </tr>\n",
       "    <tr>\n",
       "      <td>11</td>\n",
       "      <td>A photovoltaic device as claimed in claim 11, ...</td>\n",
       "      <td>False</td>\n",
       "    </tr>\n",
       "    <tr>\n",
       "      <td>12</td>\n",
       "      <td>A photovoltaic device as claimed in claim 1, w...</td>\n",
       "      <td>False</td>\n",
       "    </tr>\n",
       "    <tr>\n",
       "      <td>13</td>\n",
       "      <td>A photovoltaic device as claimed in claim 1, w...</td>\n",
       "      <td>False</td>\n",
       "    </tr>\n",
       "    <tr>\n",
       "      <td>14</td>\n",
       "      <td>A photovoltaic device as claimed in claim 14, ...</td>\n",
       "      <td>False</td>\n",
       "    </tr>\n",
       "    <tr>\n",
       "      <td>15</td>\n",
       "      <td>A photovoltaic device as claimed in claim 1, w...</td>\n",
       "      <td>False</td>\n",
       "    </tr>\n",
       "    <tr>\n",
       "      <td>16</td>\n",
       "      <td>A photovoltaic device as claimed in claim 16, ...</td>\n",
       "      <td>False</td>\n",
       "    </tr>\n",
       "    <tr>\n",
       "      <td>17</td>\n",
       "      <td>A photovoltaic device as claimed in claim 1, w...</td>\n",
       "      <td>False</td>\n",
       "    </tr>\n",
       "    <tr>\n",
       "      <td>18</td>\n",
       "      <td>A photovoltaic device as claimed in claim 1, w...</td>\n",
       "      <td>False</td>\n",
       "    </tr>\n",
       "    <tr>\n",
       "      <td>19</td>\n",
       "      <td>A photovoltaic device as claimed in claim 19, ...</td>\n",
       "      <td>False</td>\n",
       "    </tr>\n",
       "    <tr>\n",
       "      <td>20</td>\n",
       "      <td>A photovoltaic device as claimed in claim 1, w...</td>\n",
       "      <td>False</td>\n",
       "    </tr>\n",
       "    <tr>\n",
       "      <td>21</td>\n",
       "      <td>A photovoltaic device as claimed in claim 21, ...</td>\n",
       "      <td>False</td>\n",
       "    </tr>\n",
       "    <tr>\n",
       "      <td>22</td>\n",
       "      <td>A photovoltaic device as claimed in claim 1, w...</td>\n",
       "      <td>False</td>\n",
       "    </tr>\n",
       "    <tr>\n",
       "      <td>23</td>\n",
       "      <td>A photovoltaic device having a superstrate con...</td>\n",
       "      <td>True</td>\n",
       "    </tr>\n",
       "    <tr>\n",
       "      <td>24</td>\n",
       "      <td>A photovoltaic device as claimed in claim 24, ...</td>\n",
       "      <td>False</td>\n",
       "    </tr>\n",
       "  </tbody>\n",
       "</table>\n",
       "</div>"
      ],
      "text/plain": [
       "                                            claimtext  independent\n",
       "0   A photovoltaic device having a substrate confi...         True\n",
       "1   A photovoltaic device according claim 1, where...        False\n",
       "2   A photovoltaic device according claim 2, where...        False\n",
       "3   A photovoltaic device as claimed in claim 1, w...        False\n",
       "4   A photovoltaic device as claimed in claim 4, w...        False\n",
       "5   A photovoltaic device as claimed in claim 5, w...        False\n",
       "6   A photovoltaic device as claimed in claim 6, w...        False\n",
       "7   A photovoltaic device as claimed in claim 1, w...        False\n",
       "8   A photovoltaic device as claimed in claim 1, w...        False\n",
       "9   A photovoltaic device as claimed in claim 9, w...        False\n",
       "10  A photovoltaic device as claimed in claim 1, w...        False\n",
       "11  A photovoltaic device as claimed in claim 11, ...        False\n",
       "12  A photovoltaic device as claimed in claim 1, w...        False\n",
       "13  A photovoltaic device as claimed in claim 1, w...        False\n",
       "14  A photovoltaic device as claimed in claim 14, ...        False\n",
       "15  A photovoltaic device as claimed in claim 1, w...        False\n",
       "16  A photovoltaic device as claimed in claim 16, ...        False\n",
       "17  A photovoltaic device as claimed in claim 1, w...        False\n",
       "18  A photovoltaic device as claimed in claim 1, w...        False\n",
       "19  A photovoltaic device as claimed in claim 19, ...        False\n",
       "20  A photovoltaic device as claimed in claim 1, w...        False\n",
       "21  A photovoltaic device as claimed in claim 21, ...        False\n",
       "22  A photovoltaic device as claimed in claim 1, w...        False\n",
       "23  A photovoltaic device having a superstrate con...         True\n",
       "24  A photovoltaic device as claimed in claim 24, ...        False"
      ]
     },
     "execution_count": 84,
     "metadata": {},
     "output_type": "execute_result"
    }
   ],
   "source": [
    "def isindependent(string):\n",
    "    if 'claim' in string:\n",
    "        return False\n",
    "    else:\n",
    "        return True\n",
    "\n",
    "# add independent column\n",
    "claims_df['independent'] = claims_df['claimtext'].apply(isindependent)\n",
    "claims_df"
   ]
  },
  {
   "cell_type": "code",
   "execution_count": 85,
   "metadata": {},
   "outputs": [
    {
     "data": {
      "text/html": [
       "<div>\n",
       "<style scoped>\n",
       "    .dataframe tbody tr th:only-of-type {\n",
       "        vertical-align: middle;\n",
       "    }\n",
       "\n",
       "    .dataframe tbody tr th {\n",
       "        vertical-align: top;\n",
       "    }\n",
       "\n",
       "    .dataframe thead th {\n",
       "        text-align: right;\n",
       "    }\n",
       "</style>\n",
       "<table border=\"1\" class=\"dataframe\">\n",
       "  <thead>\n",
       "    <tr style=\"text-align: right;\">\n",
       "      <th></th>\n",
       "      <th>claimtext</th>\n",
       "      <th>independent</th>\n",
       "      <th>preamble</th>\n",
       "    </tr>\n",
       "  </thead>\n",
       "  <tbody>\n",
       "    <tr>\n",
       "      <td>0</td>\n",
       "      <td>A photovoltaic device having a substrate confi...</td>\n",
       "      <td>True</td>\n",
       "      <td>A photovoltaic device having a substrate confi...</td>\n",
       "    </tr>\n",
       "    <tr>\n",
       "      <td>1</td>\n",
       "      <td>A photovoltaic device according claim 1, where...</td>\n",
       "      <td>False</td>\n",
       "      <td>A photovoltaic device according claim 1</td>\n",
       "    </tr>\n",
       "    <tr>\n",
       "      <td>2</td>\n",
       "      <td>A photovoltaic device according claim 2, where...</td>\n",
       "      <td>False</td>\n",
       "      <td>A photovoltaic device according claim 2</td>\n",
       "    </tr>\n",
       "    <tr>\n",
       "      <td>3</td>\n",
       "      <td>A photovoltaic device as claimed in claim 1, w...</td>\n",
       "      <td>False</td>\n",
       "      <td>A photovoltaic device as claimed in claim 1</td>\n",
       "    </tr>\n",
       "    <tr>\n",
       "      <td>4</td>\n",
       "      <td>A photovoltaic device as claimed in claim 4, w...</td>\n",
       "      <td>False</td>\n",
       "      <td>A photovoltaic device as claimed in claim 4</td>\n",
       "    </tr>\n",
       "    <tr>\n",
       "      <td>5</td>\n",
       "      <td>A photovoltaic device as claimed in claim 5, w...</td>\n",
       "      <td>False</td>\n",
       "      <td>A photovoltaic device as claimed in claim 5</td>\n",
       "    </tr>\n",
       "    <tr>\n",
       "      <td>6</td>\n",
       "      <td>A photovoltaic device as claimed in claim 6, w...</td>\n",
       "      <td>False</td>\n",
       "      <td>A photovoltaic device as claimed in claim 6</td>\n",
       "    </tr>\n",
       "    <tr>\n",
       "      <td>7</td>\n",
       "      <td>A photovoltaic device as claimed in claim 1, w...</td>\n",
       "      <td>False</td>\n",
       "      <td>A photovoltaic device as claimed in claim 1</td>\n",
       "    </tr>\n",
       "    <tr>\n",
       "      <td>8</td>\n",
       "      <td>A photovoltaic device as claimed in claim 1, w...</td>\n",
       "      <td>False</td>\n",
       "      <td>A photovoltaic device as claimed in claim 1</td>\n",
       "    </tr>\n",
       "    <tr>\n",
       "      <td>9</td>\n",
       "      <td>A photovoltaic device as claimed in claim 9, w...</td>\n",
       "      <td>False</td>\n",
       "      <td>A photovoltaic device as claimed in claim 9</td>\n",
       "    </tr>\n",
       "    <tr>\n",
       "      <td>10</td>\n",
       "      <td>A photovoltaic device as claimed in claim 1, w...</td>\n",
       "      <td>False</td>\n",
       "      <td>A photovoltaic device as claimed in claim 1</td>\n",
       "    </tr>\n",
       "    <tr>\n",
       "      <td>11</td>\n",
       "      <td>A photovoltaic device as claimed in claim 11, ...</td>\n",
       "      <td>False</td>\n",
       "      <td>A photovoltaic device as claimed in claim 11</td>\n",
       "    </tr>\n",
       "    <tr>\n",
       "      <td>12</td>\n",
       "      <td>A photovoltaic device as claimed in claim 1, w...</td>\n",
       "      <td>False</td>\n",
       "      <td>A photovoltaic device as claimed in claim 1</td>\n",
       "    </tr>\n",
       "    <tr>\n",
       "      <td>13</td>\n",
       "      <td>A photovoltaic device as claimed in claim 1, w...</td>\n",
       "      <td>False</td>\n",
       "      <td>A photovoltaic device as claimed in claim 1</td>\n",
       "    </tr>\n",
       "    <tr>\n",
       "      <td>14</td>\n",
       "      <td>A photovoltaic device as claimed in claim 14, ...</td>\n",
       "      <td>False</td>\n",
       "      <td>A photovoltaic device as claimed in claim 14</td>\n",
       "    </tr>\n",
       "    <tr>\n",
       "      <td>15</td>\n",
       "      <td>A photovoltaic device as claimed in claim 1, w...</td>\n",
       "      <td>False</td>\n",
       "      <td>A photovoltaic device as claimed in claim 1</td>\n",
       "    </tr>\n",
       "    <tr>\n",
       "      <td>16</td>\n",
       "      <td>A photovoltaic device as claimed in claim 16, ...</td>\n",
       "      <td>False</td>\n",
       "      <td>A photovoltaic device as claimed in claim 16</td>\n",
       "    </tr>\n",
       "    <tr>\n",
       "      <td>17</td>\n",
       "      <td>A photovoltaic device as claimed in claim 1, w...</td>\n",
       "      <td>False</td>\n",
       "      <td>A photovoltaic device as claimed in claim 1</td>\n",
       "    </tr>\n",
       "    <tr>\n",
       "      <td>18</td>\n",
       "      <td>A photovoltaic device as claimed in claim 1, w...</td>\n",
       "      <td>False</td>\n",
       "      <td>A photovoltaic device as claimed in claim 1</td>\n",
       "    </tr>\n",
       "    <tr>\n",
       "      <td>19</td>\n",
       "      <td>A photovoltaic device as claimed in claim 19, ...</td>\n",
       "      <td>False</td>\n",
       "      <td>A photovoltaic device as claimed in claim 19</td>\n",
       "    </tr>\n",
       "    <tr>\n",
       "      <td>20</td>\n",
       "      <td>A photovoltaic device as claimed in claim 1, w...</td>\n",
       "      <td>False</td>\n",
       "      <td>A photovoltaic device as claimed in claim 1</td>\n",
       "    </tr>\n",
       "    <tr>\n",
       "      <td>21</td>\n",
       "      <td>A photovoltaic device as claimed in claim 21, ...</td>\n",
       "      <td>False</td>\n",
       "      <td>A photovoltaic device as claimed in claim 21</td>\n",
       "    </tr>\n",
       "    <tr>\n",
       "      <td>22</td>\n",
       "      <td>A photovoltaic device as claimed in claim 1, w...</td>\n",
       "      <td>False</td>\n",
       "      <td>A photovoltaic device as claimed in claim 1</td>\n",
       "    </tr>\n",
       "    <tr>\n",
       "      <td>23</td>\n",
       "      <td>A photovoltaic device having a superstrate con...</td>\n",
       "      <td>True</td>\n",
       "      <td>A photovoltaic device having a superstrate con...</td>\n",
       "    </tr>\n",
       "    <tr>\n",
       "      <td>24</td>\n",
       "      <td>A photovoltaic device as claimed in claim 24, ...</td>\n",
       "      <td>False</td>\n",
       "      <td>A photovoltaic device as claimed in claim 24</td>\n",
       "    </tr>\n",
       "  </tbody>\n",
       "</table>\n",
       "</div>"
      ],
      "text/plain": [
       "                                            claimtext  independent  \\\n",
       "0   A photovoltaic device having a substrate confi...         True   \n",
       "1   A photovoltaic device according claim 1, where...        False   \n",
       "2   A photovoltaic device according claim 2, where...        False   \n",
       "3   A photovoltaic device as claimed in claim 1, w...        False   \n",
       "4   A photovoltaic device as claimed in claim 4, w...        False   \n",
       "5   A photovoltaic device as claimed in claim 5, w...        False   \n",
       "6   A photovoltaic device as claimed in claim 6, w...        False   \n",
       "7   A photovoltaic device as claimed in claim 1, w...        False   \n",
       "8   A photovoltaic device as claimed in claim 1, w...        False   \n",
       "9   A photovoltaic device as claimed in claim 9, w...        False   \n",
       "10  A photovoltaic device as claimed in claim 1, w...        False   \n",
       "11  A photovoltaic device as claimed in claim 11, ...        False   \n",
       "12  A photovoltaic device as claimed in claim 1, w...        False   \n",
       "13  A photovoltaic device as claimed in claim 1, w...        False   \n",
       "14  A photovoltaic device as claimed in claim 14, ...        False   \n",
       "15  A photovoltaic device as claimed in claim 1, w...        False   \n",
       "16  A photovoltaic device as claimed in claim 16, ...        False   \n",
       "17  A photovoltaic device as claimed in claim 1, w...        False   \n",
       "18  A photovoltaic device as claimed in claim 1, w...        False   \n",
       "19  A photovoltaic device as claimed in claim 19, ...        False   \n",
       "20  A photovoltaic device as claimed in claim 1, w...        False   \n",
       "21  A photovoltaic device as claimed in claim 21, ...        False   \n",
       "22  A photovoltaic device as claimed in claim 1, w...        False   \n",
       "23  A photovoltaic device having a superstrate con...         True   \n",
       "24  A photovoltaic device as claimed in claim 24, ...        False   \n",
       "\n",
       "                                             preamble  \n",
       "0   A photovoltaic device having a substrate confi...  \n",
       "1             A photovoltaic device according claim 1  \n",
       "2             A photovoltaic device according claim 2  \n",
       "3         A photovoltaic device as claimed in claim 1  \n",
       "4         A photovoltaic device as claimed in claim 4  \n",
       "5         A photovoltaic device as claimed in claim 5  \n",
       "6         A photovoltaic device as claimed in claim 6  \n",
       "7         A photovoltaic device as claimed in claim 1  \n",
       "8         A photovoltaic device as claimed in claim 1  \n",
       "9         A photovoltaic device as claimed in claim 9  \n",
       "10        A photovoltaic device as claimed in claim 1  \n",
       "11       A photovoltaic device as claimed in claim 11  \n",
       "12        A photovoltaic device as claimed in claim 1  \n",
       "13        A photovoltaic device as claimed in claim 1  \n",
       "14       A photovoltaic device as claimed in claim 14  \n",
       "15        A photovoltaic device as claimed in claim 1  \n",
       "16       A photovoltaic device as claimed in claim 16  \n",
       "17        A photovoltaic device as claimed in claim 1  \n",
       "18        A photovoltaic device as claimed in claim 1  \n",
       "19       A photovoltaic device as claimed in claim 19  \n",
       "20        A photovoltaic device as claimed in claim 1  \n",
       "21       A photovoltaic device as claimed in claim 21  \n",
       "22        A photovoltaic device as claimed in claim 1  \n",
       "23  A photovoltaic device having a superstrate con...  \n",
       "24       A photovoltaic device as claimed in claim 24  "
      ]
     },
     "execution_count": 85,
     "metadata": {},
     "output_type": "execute_result"
    }
   ],
   "source": [
    "def define_preamble(string):\n",
    "    s=string.find(',')\n",
    "    return string[0:s]\n",
    "\n",
    "claims_df['preamble']= claims_df['claimtext'].apply(define_preamble)\n",
    "claims_df"
   ]
  },
  {
   "cell_type": "code",
   "execution_count": 90,
   "metadata": {},
   "outputs": [],
   "source": [
    "import ipysheet\n",
    "import ipywidgets as widgets\n",
    "from ipywidgets import interact, interact_manual"
   ]
  },
  {
   "cell_type": "code",
   "execution_count": null,
   "metadata": {},
   "outputs": [],
   "source": [
    "@interact\n",
    "def show_some_claims(independent=True):\n",
    "    return claims_df.loc[claims_df.independent==True]"
   ]
  },
  {
   "cell_type": "code",
   "execution_count": null,
   "metadata": {},
   "outputs": [],
   "source": [
    "import qgrid"
   ]
  },
  {
   "cell_type": "code",
   "execution_count": 95,
   "metadata": {},
   "outputs": [
    {
     "data": {
      "application/vnd.jupyter.widget-view+json": {
       "model_id": "5b7d8adced9a453788690b57bf355d82",
       "version_major": 2,
       "version_minor": 0
      },
      "text/plain": [
       "QgridWidget(grid_options={'fullWidthRows': True, 'syncColumnCellResize': True, 'forceFitColumns': True, 'defau…"
      ]
     },
     "metadata": {},
     "output_type": "display_data"
    }
   ],
   "source": [
    "qgrid_widget = qgrid.show_grid(claims_df, show_toolbar=True)\n",
    "qgrid_widget"
   ]
  },
  {
   "cell_type": "code",
   "execution_count": 86,
   "metadata": {},
   "outputs": [
    {
     "name": "stdout",
     "output_type": "stream",
     "text": [
      "0     A photovoltaic device having a substrate confi...\n",
      "23    A photovoltaic device having a superstrate con...\n",
      "Name: claimtext, dtype: object\n"
     ]
    }
   ],
   "source": [
    "\n",
    "independent=claims_df.loc[claims_df['independent'] == True,'claimtext']\n",
    "print(independent)"
   ]
  },
  {
   "cell_type": "code",
   "execution_count": null,
   "metadata": {},
   "outputs": [],
   "source": [
    "# save the result as an excel file\n",
    "claims_df.to_excel(\"output.xlsx\")"
   ]
  },
  {
   "cell_type": "code",
   "execution_count": null,
   "metadata": {},
   "outputs": [],
   "source": [
    "# Export claims table as CSV\n",
    "claims_df.to_csv('myCSV.csv')"
   ]
  },
  {
   "cell_type": "code",
   "execution_count": null,
   "metadata": {},
   "outputs": [],
   "source": [
    "claims_df.to_html('myhtml.html')"
   ]
  },
  {
   "cell_type": "markdown",
   "metadata": {},
   "source": [
    "\n",
    "(C:\\Users\\JF30443\\pyCODE\\P5_Python_course)"
   ]
  },
  {
   "cell_type": "markdown",
   "metadata": {},
   "source": [
    "If you use jupyter you can open the tables directly from jupyter notebook into another tab.\n",
    "the outputs of Jupyter are directly tables"
   ]
  },
  {
   "cell_type": "code",
   "execution_count": null,
   "metadata": {},
   "outputs": [],
   "source": [
    "import webbrowser\n",
    "\n",
    "def opentableHTML(df):\n",
    "    '''\n",
    "    gets pandas\n",
    "    opnes HTML table in chrome\n",
    "    windows specific\n",
    "    '''\n",
    "    # render dataframe as html\n",
    "    myhtmltable = df.to_html()\n",
    "        \n",
    "    with open('mysite.html','w') as f:\n",
    "        f.write('<html>')\n",
    "        f.write('<head>')\n",
    "        f.write('<title>Table of contents</title>')\n",
    "        f.write('</head>')\n",
    "        f.write('<body>')\n",
    "        f.write(myhtmltable)\n",
    "        f.write('</body>')\n",
    "        f.write('</html>')\n",
    "\n",
    "    # Windows\n",
    "    chrome_path_windows = 'C:/Program Files (x86)/Google/Chrome/Application/chrome.exe %s'\n",
    "\n",
    "    webbrowser.get(chrome_path_windows).open('mysite.html')"
   ]
  },
  {
   "cell_type": "code",
   "execution_count": null,
   "metadata": {},
   "outputs": [],
   "source": [
    "opentableHTML(claims_df)"
   ]
  },
  {
   "cell_type": "markdown",
   "metadata": {},
   "source": [
    "### 2. Reading Madou's file to analyze applicants communication"
   ]
  },
  {
   "cell_type": "markdown",
   "metadata": {},
   "source": [
    "If you want to have a text file of the applicants answer\n",
    "\n"
   ]
  },
  {
   "cell_type": "code",
   "execution_count": null,
   "metadata": {},
   "outputs": [],
   "source": [
    "import os\n",
    "path = r'C:/epodata/sea/privprop/ocr/'\n",
    "name = r'EP11156626_2014-04-30_ABEX_415_OCR.txt'\n",
    "\n",
    "name_total = os.path.join(path,name)\n",
    "print(name_total)\n",
    "print(os.path.getctime(name_total))"
   ]
  },
  {
   "cell_type": "code",
   "execution_count": null,
   "metadata": {},
   "outputs": [],
   "source": [
    "with open(name_total, 'r') as f:\n",
    "    appliletter= f.readlines()"
   ]
  },
  {
   "cell_type": "code",
   "execution_count": null,
   "metadata": {},
   "outputs": [],
   "source": [
    "ml=['er','tz','zu']\n",
    "md={letter.upper():letter for letter in ml}\n",
    "md"
   ]
  },
  {
   "cell_type": "code",
   "execution_count": null,
   "metadata": {},
   "outputs": [],
   "source": [
    "text_files = [filename for filename in os.listdir(path) if ('.txt' in filename) and ('.pdf' not in filename) and ('Status' not in filename)]\n",
    "files = {filename:os.path.getctime(os.path.join(path,filename)) for filename in text_files}\n",
    "print(files)"
   ]
  },
  {
   "cell_type": "code",
   "execution_count": null,
   "metadata": {},
   "outputs": [],
   "source": [
    "My_last_generated_ABEX = max(files, key=files.get)\n",
    "print(My_last_generated_ABEX )"
   ]
  },
  {
   "cell_type": "code",
   "execution_count": null,
   "metadata": {},
   "outputs": [],
   "source": [
    "abex_file = os.path.join(path,My_last_generated_ABEX)\n",
    "with open(abex_file,'r') as f:\n",
    "    abex = f.readlines()"
   ]
  },
  {
   "cell_type": "code",
   "execution_count": null,
   "metadata": {},
   "outputs": [],
   "source": [
    "import re\n",
    "t = 'sfdsdf D4 sfsdf'\n",
    "print(re.search(r'D\\d',t))\n",
    "print(re.search(r'X\\d',t))"
   ]
  },
  {
   "cell_type": "code",
   "execution_count": null,
   "metadata": {},
   "outputs": [],
   "source": [
    "doc_para     = [text for text in abex if re.findall(r'D\\d',text) != None]\n",
    "#matching = [s for s in my_list if any(xs in s for xs in matchers)]\n",
    "novelty_words   = ['novel','new','novelty','54'] \n",
    "novelty_para    = [text for text in doc_para if any(newword in text for newword in novelty_words)]\n",
    "\n",
    "novelty_para"
   ]
  },
  {
   "cell_type": "markdown",
   "metadata": {},
   "source": [
    "### Reading Ian's claims "
   ]
  },
  {
   "cell_type": "code",
   "execution_count": null,
   "metadata": {},
   "outputs": [],
   "source": [
    "# C:\\Users\\Public\\NoBackup\\UserData\\TriQuote\\currentclaims.txt\n",
    "# After running Triquote\n",
    "current_claims_name = r'claims.txt'\n",
    "current_triquote_path = r'C:/Users/Public/NoBackup/UserData/TriQuote'\n",
    "total_name=os.path.join(current_triquote_path,current_claims_name)\n",
    "with open(current_claims_name,'r') as f:\n",
    "    myclaims = f.readlines()"
   ]
  },
  {
   "cell_type": "code",
   "execution_count": null,
   "metadata": {},
   "outputs": [],
   "source": [
    "print(myclaims)"
   ]
  },
  {
   "cell_type": "code",
   "execution_count": null,
   "metadata": {},
   "outputs": [],
   "source": [
    "from pprint import pprint\n",
    "pprint(myclaims)"
   ]
  },
  {
   "cell_type": "markdown",
   "metadata": {},
   "source": [
    "# THE END"
   ]
  },
  {
   "cell_type": "markdown",
   "metadata": {},
   "source": [
    "Extras:\n",
    "    "
   ]
  },
  {
   "cell_type": "code",
   "execution_count": null,
   "metadata": {},
   "outputs": [],
   "source": [
    "yann_df = pd.read_csv('lipa_sipto.csv')"
   ]
  },
  {
   "cell_type": "markdown",
   "metadata": {},
   "source": [
    "Marco Cantagallo Jupyter working environement"
   ]
  },
  {
   "cell_type": "code",
   "execution_count": null,
   "metadata": {},
   "outputs": [],
   "source": []
  }
 ],
 "metadata": {
  "kernelspec": {
   "display_name": "Python 3",
   "language": "python",
   "name": "python3"
  },
  "language_info": {
   "codemirror_mode": {
    "name": "ipython",
    "version": 3
   },
   "file_extension": ".py",
   "mimetype": "text/x-python",
   "name": "python",
   "nbconvert_exporter": "python",
   "pygments_lexer": "ipython3",
   "version": "3.7.4"
  },
  "toc": {
   "base_numbering": 1,
   "nav_menu": {},
   "number_sections": false,
   "sideBar": false,
   "skip_h1_title": false,
   "title_cell": "Table of Contents",
   "title_sidebar": "Contents",
   "toc_cell": false,
   "toc_position": {},
   "toc_section_display": false,
   "toc_window_display": false
  }
 },
 "nbformat": 4,
 "nbformat_minor": 4
}
