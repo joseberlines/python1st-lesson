{
 "cells": [
  {
   "cell_type": "markdown",
   "metadata": {},
   "source": [
    "## LESSON 2: BASICS"
   ]
  },
  {
   "cell_type": "markdown",
   "metadata": {},
   "source": [
    "2.1.\tLists, tupples  \n",
    "2.2.\tManipulating lists (append, pop etc)  \n",
    "2.3.\tText functions (strings).  \n",
    "2.4.\tText formatting: f strings  .format, concatenate, split, etc  \n",
    "2.5.\tDefining functions   \n",
    "2.6.\tFor excel lovers: xlwings, pyxll [this las one just recently discovered and very promising]"
   ]
  },
  {
   "cell_type": "markdown",
   "metadata": {},
   "source": [
    "### List, tuppels\n",
    "I will not go into the kind of variables that are available in Python.  \n",
    "Basically like in any other language (int,float,str, bool, etc)    \n",
    "\n",
    "You dont have to declare variables !!!!!   \n",
    "VBA: Dim a as integer   \n",
    "Python assumes what kind of variable it is depending on what is inside.   \n",
    "\n",
    "What it is special about python (at a first level) iterables list and tuppels.\n"
   ]
  },
  {
   "cell_type": "code",
   "execution_count": null,
   "metadata": {},
   "outputs": [],
   "source": [
    "my_first_list =['first', 'second','third','fourth']\n",
    "my_first_list"
   ]
  },
  {
   "cell_type": "markdown",
   "metadata": {},
   "source": [
    "Manipulating lists"
   ]
  },
  {
   "cell_type": "code",
   "execution_count": null,
   "metadata": {},
   "outputs": [],
   "source": [
    "my_first_list.append('this is an appended value')\n",
    "my_first_list"
   ]
  },
  {
   "cell_type": "code",
   "execution_count": null,
   "metadata": {},
   "outputs": [],
   "source": [
    "my_first_list[1] = 'I changed value 2'"
   ]
  },
  {
   "cell_type": "code",
   "execution_count": null,
   "metadata": {},
   "outputs": [],
   "source": [
    "for element in my_first_list:\n",
    "    print(element)"
   ]
  },
  {
   "cell_type": "code",
   "execution_count": null,
   "metadata": {},
   "outputs": [],
   "source": [
    "for i,element in enumerate(my_first_list):\n",
    "    print('element nr %s is: %s' % (i,element))"
   ]
  },
  {
   "cell_type": "code",
   "execution_count": null,
   "metadata": {},
   "outputs": [],
   "source": [
    "# using f strings\n",
    "for i,element in enumerate(my_first_list):\n",
    "    print(f'element nr {i} is: {element}')"
   ]
  },
  {
   "cell_type": "markdown",
   "metadata": {},
   "source": [
    "slicing lists"
   ]
  },
  {
   "cell_type": "code",
   "execution_count": null,
   "metadata": {},
   "outputs": [],
   "source": [
    "from_nr  = 2\n",
    "up_to_nr = 4\n",
    "my_first_list[from_nr:up_to_nr]\n",
    "# it is zero based index"
   ]
  },
  {
   "cell_type": "code",
   "execution_count": null,
   "metadata": {},
   "outputs": [],
   "source": [
    "one_element = 3\n",
    "my_first_list[one_element:one_element]\n",
    "# does not get any element"
   ]
  },
  {
   "cell_type": "code",
   "execution_count": null,
   "metadata": {},
   "outputs": [],
   "source": [
    "my_first_list[one_element:one_element+1]"
   ]
  },
  {
   "cell_type": "markdown",
   "metadata": {},
   "source": [
    "pop elements"
   ]
  },
  {
   "cell_type": "code",
   "execution_count": null,
   "metadata": {},
   "outputs": [],
   "source": [
    "my_first_list.pop(2)\n",
    "my_first_list\n",
    "# be careful in jupyter when running the same cell several times."
   ]
  },
  {
   "cell_type": "markdown",
   "metadata": {},
   "source": [
    "Other methods for lists"
   ]
  },
  {
   "cell_type": "code",
   "execution_count": null,
   "metadata": {},
   "outputs": [],
   "source": [
    "print(dir(list))"
   ]
  },
  {
   "cell_type": "markdown",
   "metadata": {},
   "source": [
    "You can put anything in a list of course.    \n",
    "Everything in python is an object.   \n",
    "You can have a list of lists, including tuples, including entire files etcetc"
   ]
  },
  {
   "cell_type": "code",
   "execution_count": null,
   "metadata": {},
   "outputs": [],
   "source": [
    "crazy_list = ['this is a text',[2,3,4,5],['another list', 2,3,[4,5]]]\n",
    "for i,element in enumerate(crazy_list):\n",
    "    print('element nr %s is: %s' % (i,element))\n",
    "    "
   ]
  },
  {
   "cell_type": "code",
   "execution_count": null,
   "metadata": {},
   "outputs": [],
   "source": [
    "element3 = crazy_list[2]\n",
    "print(element3)"
   ]
  },
  {
   "cell_type": "code",
   "execution_count": null,
   "metadata": {},
   "outputs": [],
   "source": [
    "element2of3 = element3 "
   ]
  },
  {
   "cell_type": "markdown",
   "metadata": {},
   "source": [
    "#### Tupples  \n",
    "A tupple is an unmutable object.  \n",
    "Once created you can not change it.  \n",
    "Worth having a look to mutable and unmutable objects.   \n",
    "In lists you can add, pop, reverse, etcetc, in tupples not.   \n",
    "\n",
    "NOTE: I have never felt the need for using tuples.\n",
    "\n"
   ]
  },
  {
   "cell_type": "code",
   "execution_count": null,
   "metadata": {},
   "outputs": [],
   "source": [
    "my_tuple=(4,5,6,7)"
   ]
  },
  {
   "cell_type": "markdown",
   "metadata": {},
   "source": [
    "Tuples are inmutable"
   ]
  },
  {
   "cell_type": "code",
   "execution_count": null,
   "metadata": {},
   "outputs": [],
   "source": [
    "my_tuple[2] = 'I want to change value number 3'"
   ]
  },
  {
   "cell_type": "code",
   "execution_count": null,
   "metadata": {},
   "outputs": [],
   "source": [
    "print(type(my_tuple))\n",
    "# there is no such a thing as a tupple object"
   ]
  },
  {
   "cell_type": "code",
   "execution_count": null,
   "metadata": {},
   "outputs": [],
   "source": [
    "for i,element in enumerate(my_tuple):\n",
    "    print('element nr %s is: %s' % (i,element))"
   ]
  },
  {
   "cell_type": "code",
   "execution_count": null,
   "metadata": {},
   "outputs": [],
   "source": [
    "print(dir(tuple))"
   ]
  },
  {
   "cell_type": "code",
   "execution_count": null,
   "metadata": {},
   "outputs": [],
   "source": [
    "list_of_methods_for_list = dir(list)\n",
    "list_of_methods_for_tuple = dir(tuple)\n",
    "\n",
    "list_of_methods_only_in_list = [method for method in list_of_methods_for_list if method not in list_of_methods_for_tuple]\n",
    "\n",
    "print(list_of_methods_only_in_list)"
   ]
  },
  {
   "cell_type": "markdown",
   "metadata": {},
   "source": [
    "### Text functions (strings)"
   ]
  },
  {
   "cell_type": "code",
   "execution_count": null,
   "metadata": {},
   "outputs": [],
   "source": [
    "mystring=\"Lorem Ipsum is simply dummy text of the printing and typesetting industry\""
   ]
  },
  {
   "cell_type": "code",
   "execution_count": null,
   "metadata": {},
   "outputs": [],
   "source": [
    "mystring.endswith(\"y\")"
   ]
  },
  {
   "cell_type": "code",
   "execution_count": null,
   "metadata": {},
   "outputs": [],
   "source": [
    "mystring = mystring + \"some other text\"\n",
    "mystring"
   ]
  },
  {
   "cell_type": "code",
   "execution_count": null,
   "metadata": {},
   "outputs": [],
   "source": [
    "tokenized = mystring.split(\" \")\n",
    "tokenized"
   ]
  },
  {
   "cell_type": "code",
   "execution_count": null,
   "metadata": {},
   "outputs": [],
   "source": [
    "print(dir(str))"
   ]
  },
  {
   "cell_type": "markdown",
   "metadata": {},
   "source": [
    "### list comprehension\n",
    "List comprehensions provide a concise way to create lists.    \n",
    "\n",
    "It consists of brackets containing an expression followed by a for clause.   \n",
    "\n",
    "At this level this is one of the most pythonic ways in python.\n",
    "\n",
    "Lets see an example"
   ]
  },
  {
   "cell_type": "code",
   "execution_count": null,
   "metadata": {},
   "outputs": [],
   "source": [
    "A = [1,3,5,3,6,8,9,23,45,22,64]\n",
    "B = [3,6,2,7,9,23,4,55,78,54,4]"
   ]
  },
  {
   "cell_type": "code",
   "execution_count": null,
   "metadata": {},
   "outputs": [],
   "source": [
    "# get the list of all the elements even in A\n",
    "even_list = [element_of_A for element_of_A in A if element_of_A%2 == 0]\n",
    "print(even_list)"
   ]
  },
  {
   "cell_type": "code",
   "execution_count": null,
   "metadata": {},
   "outputs": [],
   "source": [
    "# get the list of all the elements in B not in A\n",
    "B_not_A_list = [element_of_B for element_of_B in B if element_of_B not in A]\n",
    "print(B_not_A_list)"
   ]
  },
  {
   "cell_type": "code",
   "execution_count": null,
   "metadata": {},
   "outputs": [],
   "source": [
    "# get the list of all the elements in B not in A and even\n",
    "B_not_A_even_list = [element_of_B for element_of_B in B if (element_of_B not in A and element_of_B%2 == 0)]\n",
    "print(B_not_A_even_list)"
   ]
  },
  {
   "cell_type": "markdown",
   "metadata": {},
   "source": [
    "### Time to ZEN\n",
    "Why is time to ZEN?   \n",
    "because lines are getting too long.    \n",
    "Things are getting too complicated.   \n",
    "\n",
    "How is programming done in python?\n",
    "Following the Zen of python"
   ]
  },
  {
   "cell_type": "code",
   "execution_count": null,
   "metadata": {},
   "outputs": [],
   "source": [
    "import this"
   ]
  },
  {
   "cell_type": "markdown",
   "metadata": {},
   "source": [
    "### PEP 8\n",
    "Python Enhancement Proposal.\n",
    "PEP 8 is Python's style guide. It's a set of rules for how to format your Python code to maximize its readability. Writing code to a specification helps to make large code bases, with lots of writers, more uniform and predictable, too.   \n",
    "\n",
    "Is it important to stick to PEP8?   \n",
    "PEP 8 exists to improve the readability of Python code. But why is readability so important? Why is writing readable code one of the guiding principles of the Python language?   \n",
    "\n",
    "As Guido van Rossum said, “Code is read much more often than it is written.”    \n",
    "\n",
    "Check for PEP8 conventions online. There are hundreds of pages.\n",
    "\n",
    "as a matter of example:\n",
    "pep8 says that a line might not have more than 79 chareacteres.   \n",
    "\n",
    "Once such program is \"black\", which autoformats code following most of the rules in PEP 8"
   ]
  },
  {
   "cell_type": "code",
   "execution_count": null,
   "metadata": {},
   "outputs": [],
   "source": [
    "# bad:\n",
    "B_not_A_even_list = [element_of_B for element_of_B in B if (element_of_B not in A and element_of_B%2 == 0)]\n",
    "\n",
    "# good:\n",
    "B_not_A_even_list = [\n",
    "    element_of_B for element_of_B in B if (\n",
    "        element_of_B not in A and element_of_B%2 == 0\n",
    "    )]\n",
    "print(B_not_A_even_list)"
   ]
  },
  {
   "cell_type": "markdown",
   "metadata": {},
   "source": [
    "### Functions/methods"
   ]
  },
  {
   "cell_type": "code",
   "execution_count": null,
   "metadata": {},
   "outputs": [],
   "source": [
    "def my_first_method(variable1,variable2):\n",
    "    operation=(variable1 - variable2)^3\n",
    "            \n",
    "    return operation\n",
    "    \n",
    "    \n",
    "variable1 = 34\n",
    "variable2 = 45\n",
    "\n",
    "print(my_first_method(variable1,variable2))\n"
   ]
  },
  {
   "cell_type": "markdown",
   "metadata": {},
   "source": [
    "### Importing your own modules"
   ]
  },
  {
   "cell_type": "markdown",
   "metadata": {},
   "source": [
    "Question: Deal first with managing your own funcitons or with standard lybraries?"
   ]
  },
  {
   "cell_type": "code",
   "execution_count": null,
   "metadata": {},
   "outputs": [],
   "source": [
    "from my_functions import jose_function1,jose_function2"
   ]
  },
  {
   "cell_type": "code",
   "execution_count": null,
   "metadata": {},
   "outputs": [],
   "source": [
    "print(jose_function1.__doc__)"
   ]
  },
  {
   "cell_type": "code",
   "execution_count": null,
   "metadata": {},
   "outputs": [],
   "source": [
    "jose_function1(4,6)"
   ]
  },
  {
   "cell_type": "code",
   "execution_count": null,
   "metadata": {},
   "outputs": [],
   "source": [
    "jose_function2(4,6)"
   ]
  },
  {
   "cell_type": "code",
   "execution_count": null,
   "metadata": {},
   "outputs": [],
   "source": [
    "jose_function3(4,6)"
   ]
  },
  {
   "cell_type": "markdown",
   "metadata": {},
   "source": [
    "I could have imported everything"
   ]
  },
  {
   "cell_type": "code",
   "execution_count": null,
   "metadata": {},
   "outputs": [],
   "source": [
    "from my_functions import *"
   ]
  },
  {
   "cell_type": "markdown",
   "metadata": {},
   "source": [
    "To group many .py files put them in a folder.  \n",
    "Any folder with an __ init __.py is considered a module by python and you can call them a package\n",
    "\n",
    "Show here the folder my_first_package   \n",
    "\n",
    "Important note:   \n",
    "A powerful feature of Jupyter / IPython (indeed, of Python itself) is that you can interact with your data from the (I)Python command line. In order to provide this functionality, the modules which hold your data remain alive between invocations.\n",
    "Therefore once a module is imported, it stays imported, and re-importing it has no effect at all.\n",
    "\n",
    "\n"
   ]
  },
  {
   "cell_type": "code",
   "execution_count": null,
   "metadata": {},
   "outputs": [],
   "source": [
    "import my_first_package.nicer_functions"
   ]
  },
  {
   "cell_type": "code",
   "execution_count": null,
   "metadata": {},
   "outputs": [],
   "source": [
    "print(dir(my_first_package))"
   ]
  },
  {
   "cell_type": "code",
   "execution_count": null,
   "metadata": {},
   "outputs": [],
   "source": [
    "print(my_first_package.__doc__)"
   ]
  },
  {
   "cell_type": "code",
   "execution_count": null,
   "metadata": {},
   "outputs": [],
   "source": [
    "dir(my_first_package.nicer_functions)"
   ]
  },
  {
   "cell_type": "code",
   "execution_count": null,
   "metadata": {},
   "outputs": [],
   "source": [
    "import antigravity"
   ]
  },
  {
   "cell_type": "markdown",
   "metadata": {},
   "source": [
    "\n",
    "\n"
   ]
  }
 ],
 "metadata": {
  "kernelspec": {
   "display_name": "Python 3",
   "language": "python",
   "name": "python3"
  },
  "language_info": {
   "codemirror_mode": {
    "name": "ipython",
    "version": 3
   },
   "file_extension": ".py",
   "mimetype": "text/x-python",
   "name": "python",
   "nbconvert_exporter": "python",
   "pygments_lexer": "ipython3",
   "version": "3.7.4"
  }
 },
 "nbformat": 4,
 "nbformat_minor": 2
}
